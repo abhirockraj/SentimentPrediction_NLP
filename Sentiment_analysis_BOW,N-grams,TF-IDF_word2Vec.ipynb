{
 "cells": [
  {
   "cell_type": "code",
   "execution_count": 83,
   "id": "b3777c85-fc5f-4b02-b62e-d43461ca9809",
   "metadata": {},
   "outputs": [],
   "source": [
    "from sklearn.feature_extraction.text import CountVectorizer\n",
    "import pandas as pd\n",
    "import tensorflow as tf\n",
    "from tensorflow.keras.optimizers import Adam\n",
    "import pickle\n",
    "import numpy as np\n",
    "from matplotlib import pyplot as plt\n",
    "from sklearn.metrics import accuracy_score\n",
    "from sklearn.metrics import f1_score\n",
    "from sklearn.feature_extraction.text import TfidfVectorizer\n",
    "import gensim\n",
    "from tqdm import tqdm"
   ]
  },
  {
   "cell_type": "code",
   "execution_count": 2,
   "id": "3798886c-9e88-48a0-944e-39d70ae1d7fb",
   "metadata": {},
   "outputs": [
    {
     "data": {
      "text/html": [
       "<div>\n",
       "<style scoped>\n",
       "    .dataframe tbody tr th:only-of-type {\n",
       "        vertical-align: middle;\n",
       "    }\n",
       "\n",
       "    .dataframe tbody tr th {\n",
       "        vertical-align: top;\n",
       "    }\n",
       "\n",
       "    .dataframe thead th {\n",
       "        text-align: right;\n",
       "    }\n",
       "</style>\n",
       "<table border=\"1\" class=\"dataframe\">\n",
       "  <thead>\n",
       "    <tr style=\"text-align: right;\">\n",
       "      <th></th>\n",
       "      <th>clean_text</th>\n",
       "      <th>category</th>\n",
       "    </tr>\n",
       "  </thead>\n",
       "  <tbody>\n",
       "    <tr>\n",
       "      <th>0</th>\n",
       "      <td>when modi promised “minimum government maximum...</td>\n",
       "      <td>-1.0</td>\n",
       "    </tr>\n",
       "    <tr>\n",
       "      <th>1</th>\n",
       "      <td>talk all the nonsense and continue all the dra...</td>\n",
       "      <td>0.0</td>\n",
       "    </tr>\n",
       "    <tr>\n",
       "      <th>2</th>\n",
       "      <td>what did just say vote for modi  welcome bjp t...</td>\n",
       "      <td>1.0</td>\n",
       "    </tr>\n",
       "    <tr>\n",
       "      <th>3</th>\n",
       "      <td>asking his supporters prefix chowkidar their n...</td>\n",
       "      <td>1.0</td>\n",
       "    </tr>\n",
       "    <tr>\n",
       "      <th>4</th>\n",
       "      <td>answer who among these the most powerful world...</td>\n",
       "      <td>1.0</td>\n",
       "    </tr>\n",
       "  </tbody>\n",
       "</table>\n",
       "</div>"
      ],
      "text/plain": [
       "                                          clean_text  category\n",
       "0  when modi promised “minimum government maximum...      -1.0\n",
       "1  talk all the nonsense and continue all the dra...       0.0\n",
       "2  what did just say vote for modi  welcome bjp t...       1.0\n",
       "3  asking his supporters prefix chowkidar their n...       1.0\n",
       "4  answer who among these the most powerful world...       1.0"
      ]
     },
     "execution_count": 2,
     "metadata": {},
     "output_type": "execute_result"
    }
   ],
   "source": [
    "df = pd.read_csv('Twitter_Data.csv', index_col=False)\n",
    "df.head()"
   ]
  },
  {
   "cell_type": "code",
   "execution_count": 3,
   "id": "c8ceae5c-bda3-4c4b-8417-f12f03f72146",
   "metadata": {},
   "outputs": [
    {
     "name": "stdout",
     "output_type": "stream",
     "text": [
      "<class 'pandas.core.frame.DataFrame'>\n",
      "Int64Index: 162969 entries, 0 to 162979\n",
      "Data columns (total 2 columns):\n",
      " #   Column      Non-Null Count   Dtype  \n",
      "---  ------      --------------   -----  \n",
      " 0   clean_text  162969 non-null  object \n",
      " 1   category    162969 non-null  float64\n",
      "dtypes: float64(1), object(1)\n",
      "memory usage: 3.7+ MB\n"
     ]
    }
   ],
   "source": [
    "df = df.dropna()\n",
    "df.info()"
   ]
  },
  {
   "cell_type": "code",
   "execution_count": 16,
   "id": "5484eaa0-cc77-48d8-9af2-b460aab13ed0",
   "metadata": {},
   "outputs": [],
   "source": [
    "def create_df(df_bow):\n",
    "    xtrain = df_bow[:int(df_bow.shape[0]*0.8)]\n",
    "    xtest = df_bow[int(df_bow.shape[0]*0.8):]\n",
    "    y = np.array(df['category'])\n",
    "    yN =[]\n",
    "    for i in y:\n",
    "        if(i == 1.0):\n",
    "            yN.append([1,0,0])\n",
    "        elif(i==0.0):\n",
    "            yN.append([0,1,0])\n",
    "        else:\n",
    "            yN.append([0,0,1])\n",
    "    ytrain = np.array(yN[:int(df_bow.shape[0]*0.8)])\n",
    "    ytest = np.array(yN[int(df_bow.shape[0]*0.8):])\n",
    "    ytrain = np.reshape(ytrain,(ytrain.shape[0],3))\n",
    "    ytest = np.reshape(ytest,(ytest.shape[0],3))\n",
    "    return (xtrain,ytrain,xtest,ytest)\n",
    "            \n",
    "    "
   ]
  },
  {
   "cell_type": "code",
   "execution_count": 20,
   "id": "b97ab2ef-f34f-497b-b2fd-1f91cd5adfdb",
   "metadata": {},
   "outputs": [],
   "source": [
    "def trainData(lr,epoch,ytrain,x_train,w):\n",
    "    x = tf.constant(xtrain, dtype=tf.float32)\n",
    "    opti= Adam(learning_rate=lr)\n",
    "    iter =epoch\n",
    "    c=[]\n",
    "    ytrain=tf.constant(ytrain,dtype=tf.float32)\n",
    "    loss=tf.keras.losses.CategoricalCrossentropy(reduction=tf.keras.losses.Reduction.SUM)\n",
    "    for i in range(iter):\n",
    "        with tf.GradientTape() as tape:\n",
    "            yhat = tf.nn.softmax(tf.matmul(x,tf.transpose(w)),axis=1)\n",
    "            cost = loss(yhat, ytrain)\n",
    "\n",
    "        c.append(cost)\n",
    "        grad = tape.gradient(cost,[w])\n",
    "        opti.apply_gradients(zip(grad,[w])) # adma optimizer\n",
    "    return(c,w)    \n",
    "        "
   ]
  },
  {
   "cell_type": "code",
   "execution_count": 19,
   "id": "d6ebdf73-f7bc-4961-82b0-50d1fbcaafb3",
   "metadata": {},
   "outputs": [],
   "source": [
    "def showLearningCurve(c):\n",
    "    l=np.arange(1,len(c)+1)\n",
    "    plt.plot(l, c, label = \"line 2\")\n",
    "\n",
    "    # naming the x axis -->\n",
    "    plt.xlabel('iteration')\n",
    "    # naming the y axis\n",
    "    plt.ylabel('cost')\n",
    "    # giving a title to my graph\n",
    "    plt.title('Cost function Recommendor system!')\n",
    "\n",
    "    # show a legend on the plot\n",
    "    plt.legend()\n",
    "\n",
    "    # function to show the plot\n",
    "    plt.show()"
   ]
  },
  {
   "cell_type": "code",
   "execution_count": 21,
   "id": "a4d67e81-de64-45bc-b293-ef93b232fd96",
   "metadata": {},
   "outputs": [],
   "source": [
    "def accuracyAndF1(xtest,y):\n",
    "    xtest = tf.constant(xtest, dtype=tf.float32)\n",
    "    yhatN = tf.nn.softmax(tf.matmul(xtest,tf.transpose(w)),axis=1).numpy()\n",
    "    yhat = []\n",
    "    for i in yhatN:\n",
    "        a = np.argmax(i)\n",
    "        if(a==0):\n",
    "            yhat.append(1.0)\n",
    "        elif(a==1):\n",
    "            yhat.append(0.0)\n",
    "        else:\n",
    "            yhat.append(-1.0)\n",
    "    ytN=np.array(y[int(df_bow.shape[0]*0.8):])\n",
    "    ytest = np.array(ytN)\n",
    "    ytest = np.reshape((ytest),(ytest.shape[0],1))\n",
    "    ytest.shape \n",
    "    yhat = np.array(yhat)\n",
    "    yhat=np.reshape((yhat),(yhat.shape[0],1))\n",
    "    print(accuracy_score(ytest, yhat))\n",
    "    print(f1_score(ytest, yhat, average='micro'))"
   ]
  },
  {
   "cell_type": "markdown",
   "id": "bb32199b-bead-44f5-8582-683c4f706dea",
   "metadata": {},
   "source": [
    "## Bag of words  DataFrame"
   ]
  },
  {
   "cell_type": "code",
   "execution_count": 36,
   "id": "5dc8dc6f-5b81-411d-b422-9ba9ac2f8f4c",
   "metadata": {},
   "outputs": [],
   "source": [
    "max_features = 2000"
   ]
  },
  {
   "cell_type": "code",
   "execution_count": 61,
   "id": "acad2a0b-cf55-4223-9fa8-833760e9a9c8",
   "metadata": {},
   "outputs": [
    {
     "data": {
      "text/plain": [
       "(162969, 2500)"
      ]
     },
     "execution_count": 61,
     "metadata": {},
     "output_type": "execute_result"
    }
   ],
   "source": [
    "bow = CountVectorizer(stop_words='english',max_features=max_features)\n",
    "df_bow = cv1.fit_transform(df[\"clean_text\"])\n",
    "df_bow=df_bow.toarray()\n",
    "df_bow.shape"
   ]
  },
  {
   "cell_type": "code",
   "execution_count": 62,
   "id": "e3c939f7-49cb-44d0-927e-88f8fcf7017e",
   "metadata": {},
   "outputs": [],
   "source": [
    "with open('Bag_of_words_vectorizer.pkl', 'wb') as fin:\n",
    "    pickle.dump(bow, fin)"
   ]
  },
  {
   "cell_type": "code",
   "execution_count": 38,
   "id": "d3624e65-f473-4c80-a56f-d040b5dec0dd",
   "metadata": {},
   "outputs": [],
   "source": [
    "xtrain,ytrain,xtest,ytest =  create_df(df_bow)"
   ]
  },
  {
   "cell_type": "code",
   "execution_count": 40,
   "id": "6a861fff-092e-4575-a112-bf11c544ac0c",
   "metadata": {},
   "outputs": [
    {
     "data": {
      "text/plain": [
       "<tf.Variable 'Variable:0' shape=(3, 2000) dtype=float32, numpy=\n",
       "array([[ 9.53178  ,  2.779921 ,  7.1612725, ...,  5.488206 , 11.738838 ,\n",
       "         9.428514 ],\n",
       "       [11.418312 ,  6.4107943, 11.731164 , ...,  7.4617677,  9.884328 ,\n",
       "        10.79973  ],\n",
       "       [ 6.469105 ,  3.558635 ,  6.63434  , ...,  5.636131 ,  9.276362 ,\n",
       "         9.636646 ]], dtype=float32)>"
      ]
     },
     "execution_count": 40,
     "metadata": {},
     "output_type": "execute_result"
    }
   ],
   "source": [
    "w=tf.Variable(tf.random.uniform(shape=[3,max_features], minval=0,maxval=15, dtype=tf.float32, seed=123456789))\n",
    "c,weights_BOW= trainData(1e-1,300,ytrain,xtrain,w)\n",
    "weights_BOW"
   ]
  },
  {
   "cell_type": "code",
   "execution_count": 41,
   "id": "a034e699-c34d-4f6e-94ae-44e604c070a2",
   "metadata": {},
   "outputs": [
    {
     "data": {
      "image/png": "[encoded data removed]",
      "text/plain": [
       "<Figure size 432x288 with 1 Axes>"
      ]
     },
     "metadata": {
      "needs_background": "light"
     },
     "output_type": "display_data"
    }
   ],
   "source": [
    "showLearningCurve(c)"
   ]
  },
  {
   "cell_type": "code",
   "execution_count": 42,
   "id": "fed9bec4-cb38-4294-92bf-3ab3647b95a5",
   "metadata": {},
   "outputs": [
    {
     "name": "stdout",
     "output_type": "stream",
     "text": [
      "0.7861876418972817\n",
      "0.7861876418972816\n"
     ]
    }
   ],
   "source": [
    "accuracyAndF1(xtest,np.array(df['category']))"
   ]
  },
  {
   "cell_type": "code",
   "execution_count": 43,
   "id": "f9d53922-cf02-423d-a75e-7461b66f7da3",
   "metadata": {},
   "outputs": [],
   "source": [
    "np.savetxt(\"SoftmaxWeights_BOW.csv\", weights_BOW, delimiter=\",\")"
   ]
  },
  {
   "cell_type": "markdown",
   "id": "cad1bd73-8523-4b11-ac12-b56125a08a23",
   "metadata": {},
   "source": [
    "## Ngrams n=2 dataframe can not make dataset as memory issue "
   ]
  },
  {
   "cell_type": "code",
   "execution_count": 46,
   "id": "7d0bf613-f09f-4c89-aca9-9283ea5b85fa",
   "metadata": {},
   "outputs": [],
   "source": [
    "max_feature = 2500"
   ]
  },
  {
   "cell_type": "code",
   "execution_count": 59,
   "id": "f72f0b8a-0cca-4dd1-905f-4069a6569828",
   "metadata": {},
   "outputs": [
    {
     "data": {
      "text/plain": [
       "(162969, 2500)"
      ]
     },
     "execution_count": 59,
     "metadata": {},
     "output_type": "execute_result"
    }
   ],
   "source": [
    "ngrams = CountVectorizer(stop_words='english',ngram_range=(1, 3),max_features=2500)\n",
    "df_bow = cv1.fit_transform(df[\"clean_text\"])\n",
    "df_bow=df_bow.toarray()\n",
    "df_bow.shape"
   ]
  },
  {
   "cell_type": "code",
   "execution_count": 60,
   "id": "15584b5f-e6b3-4ed0-9900-3da8298e8a02",
   "metadata": {},
   "outputs": [],
   "source": [
    "with open('N-GRAMS_vectorizer.pkl', 'wb') as fin:\n",
    "    pickle.dump(ngrams, fin)"
   ]
  },
  {
   "cell_type": "code",
   "execution_count": 47,
   "id": "15fc7b0c-6df4-4dd8-93e1-611003bef88e",
   "metadata": {},
   "outputs": [
    {
     "data": {
      "text/plain": [
       "(130375, 2500)"
      ]
     },
     "execution_count": 47,
     "metadata": {},
     "output_type": "execute_result"
    }
   ],
   "source": [
    "xtrain,ytrain,xtest,ytest =  create_df(df_bow)\n",
    "xtrain.shape"
   ]
  },
  {
   "cell_type": "code",
   "execution_count": 48,
   "id": "393c4353-2edd-4bd1-b363-19c9e583fa16",
   "metadata": {},
   "outputs": [
    {
     "data": {
      "text/plain": [
       "<tf.Variable 'Variable:0' shape=(3, 2500) dtype=float32, numpy=\n",
       "array([[ 9.171355 ,  7.1902637,  6.267326 , ...,  7.536232 ,  6.7786717,\n",
       "        10.805975 ],\n",
       "       [11.5243025, 10.208642 ,  9.757872 , ...,  7.706666 ,  3.8171875,\n",
       "        12.214117 ],\n",
       "       [ 7.6567774,  5.4724813,  5.864653 , ...,  6.755416 ,  5.0768347,\n",
       "         9.921056 ]], dtype=float32)>"
      ]
     },
     "execution_count": 48,
     "metadata": {},
     "output_type": "execute_result"
    }
   ],
   "source": [
    "w=tf.Variable(tf.random.uniform(shape=[3,max_feature], minval=0,maxval=15, dtype=tf.float32, seed=123456789))\n",
    "c,weights_Ngrams= trainData(1e-1,300,ytrain,xtrain,w)\n",
    "weights_Ngrams"
   ]
  },
  {
   "cell_type": "code",
   "execution_count": 49,
   "id": "44755d7f-258e-416e-b703-f2586ddaaea8",
   "metadata": {},
   "outputs": [
    {
     "data": {
      "image/png": "[encoded data removed]",
      "text/plain": [
       "<Figure size 432x288 with 1 Axes>"
      ]
     },
     "metadata": {
      "needs_background": "light"
     },
     "output_type": "display_data"
    }
   ],
   "source": [
    "showLearningCurve(c)"
   ]
  },
  {
   "cell_type": "code",
   "execution_count": 50,
   "id": "43c60e39-74a6-457e-8cc2-9d97835795e9",
   "metadata": {},
   "outputs": [
    {
     "name": "stdout",
     "output_type": "stream",
     "text": [
      "0.7813094434558507\n",
      "0.7813094434558507\n"
     ]
    }
   ],
   "source": [
    "accuracyAndF1(xtest,np.array(df['category']))"
   ]
  },
  {
   "cell_type": "code",
   "execution_count": 51,
   "id": "4818607b-9362-4a83-8036-f0e46d23f13a",
   "metadata": {},
   "outputs": [],
   "source": [
    "np.savetxt(\"SoftmaxWeights_N-Grams.csv\", weights_Ngrams, delimiter=\",\")"
   ]
  },
  {
   "cell_type": "markdown",
   "id": "cf5f4d71-fcae-4817-bbb3-7b1b3cb70d46",
   "metadata": {},
   "source": [
    "## TF - IDF "
   ]
  },
  {
   "cell_type": "code",
   "execution_count": 53,
   "id": "5b09bf7a-eff8-4e2e-8802-0f76031d247d",
   "metadata": {},
   "outputs": [
    {
     "data": {
      "text/plain": [
       "(162969, 2500)"
      ]
     },
     "execution_count": 53,
     "metadata": {},
     "output_type": "execute_result"
    }
   ],
   "source": [
    "max_f = 2500\n",
    "vectorizer = TfidfVectorizer(stop_words='english',max_features=max_f)\n",
    "df_bow = cv1.fit_transform(df[\"clean_text\"])\n",
    "df_bow=df_bow.toarray()\n",
    "df_bow.shape"
   ]
  },
  {
   "cell_type": "code",
   "execution_count": 55,
   "id": "aa82448c-6b94-49ff-989c-0e172d4e0fce",
   "metadata": {},
   "outputs": [],
   "source": [
    "xtrain,ytrain,xtest,ytest =  create_df(df_bow)\n",
    "w=tf.Variable(tf.random.uniform(shape=[3,max_f], minval=0,maxval=15, dtype=tf.float32, seed=123456789))\n",
    "c,weights_TfIdf= trainData(1e-1,300,ytrain,xtrain,w)"
   ]
  },
  {
   "cell_type": "code",
   "execution_count": 56,
   "id": "8d8bb063-e147-4feb-ba2f-95fd2227cd11",
   "metadata": {},
   "outputs": [
    {
     "data": {
      "image/png": "[encoded data removed]",
      "text/plain": [
       "<Figure size 432x288 with 1 Axes>"
      ]
     },
     "metadata": {
      "needs_background": "light"
     },
     "output_type": "display_data"
    }
   ],
   "source": [
    "showLearningCurve(c)"
   ]
  },
  {
   "cell_type": "code",
   "execution_count": 57,
   "id": "39e45cc8-fdf0-4c69-aa48-141474077ba6",
   "metadata": {},
   "outputs": [
    {
     "name": "stdout",
     "output_type": "stream",
     "text": [
      "0.7830889120697061\n",
      "0.7830889120697061\n"
     ]
    }
   ],
   "source": [
    "accuracyAndF1(xtest,np.array(df['category']))"
   ]
  },
  {
   "cell_type": "code",
   "execution_count": 58,
   "id": "1c3ebbbc-054e-474d-800e-10919f882f8a",
   "metadata": {},
   "outputs": [],
   "source": [
    "with open('TF_IDF_vectorizer.pkl', 'wb') as fin:\n",
    "    pickle.dump(vectorizer, fin)"
   ]
  },
  {
   "cell_type": "markdown",
   "id": "7f3dddcb-231e-4c3a-8145-06be9be66c98",
   "metadata": {},
   "source": [
    "## Word 2 Vector"
   ]
  },
  {
   "cell_type": "code",
   "execution_count": 76,
   "id": "ab37afbf-9ec1-431a-a326-d0fd8de3ec24",
   "metadata": {},
   "outputs": [],
   "source": [
    "ref = df.clean_text.apply(gensim.utils.simple_preprocess)"
   ]
  },
  {
   "cell_type": "code",
   "execution_count": 77,
   "id": "289aa6c7-e9ce-487f-adbb-cd9681cf9473",
   "metadata": {},
   "outputs": [],
   "source": [
    "model_w2v = gensim.models.Word2Vec(window=10,min_count=2)"
   ]
  },
  {
   "cell_type": "code",
   "execution_count": 78,
   "id": "f20fa3b9-f4e1-4ff6-889a-5be7bca2e892",
   "metadata": {},
   "outputs": [],
   "source": [
    "model_w2v.build_vocab(ref)"
   ]
  },
  {
   "cell_type": "code",
   "execution_count": 79,
   "id": "c9e337c8-6982-4920-9109-b5a9b13eee9e",
   "metadata": {},
   "outputs": [
    {
     "data": {
      "text/plain": [
       "(13218852, 16159375)"
      ]
     },
     "execution_count": 79,
     "metadata": {},
     "output_type": "execute_result"
    }
   ],
   "source": [
    "model_w2v.train(ref,total_examples = model_w2v.corpus_count,epochs=model_w2v.epochs)"
   ]
  },
  {
   "cell_type": "code",
   "execution_count": 80,
   "id": "932f2324-3063-4101-bf46-005b244ab978",
   "metadata": {},
   "outputs": [],
   "source": [
    "def docVector(doc):\n",
    "    doc = [word for word in doc.split() if word in model_w2v.wv.index_to_key]\n",
    "    return np.mean(model_w2v.wv[doc],axis=0)"
   ]
  },
  {
   "cell_type": "code",
   "execution_count": null,
   "id": "dd2de680-a646-49ed-8ef1-de7d81fdcfcf",
   "metadata": {},
   "outputs": [],
   "source": [
    "X = []\n",
    "for i in tqdm(df['clean_text'].values):\n",
    "    X.append( docVector(i))\n",
    "len(X)    "
   ]
  },
  {
   "cell_type": "code",
   "execution_count": null,
   "id": "597b9b89-989f-4b92-8316-96b54756b8ef",
   "metadata": {},
   "outputs": [],
   "source": []
  }
 ],
 "metadata": {
  "kernelspec": {
   "display_name": "Python 3 (ipykernel)",
   "language": "python",
   "name": "python3"
  },
  "language_info": {
   "codemirror_mode": {
    "name": "ipython",
    "version": 3
   },
   "file_extension": ".py",
   "mimetype": "text/x-python",
   "name": "python",
   "nbconvert_exporter": "python",
   "pygments_lexer": "ipython3",
   "version": "3.9.12"
  }
 },
 "nbformat": 4,
 "nbformat_minor": 5
}

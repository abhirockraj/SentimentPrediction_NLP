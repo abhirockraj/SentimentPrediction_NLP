{
 "cells": [
  {
   "cell_type": "code",
   "execution_count": 56,
   "id": "d681e6db-6dc3-4547-81dd-e079452bdcac",
   "metadata": {},
   "outputs": [],
   "source": [
    "import nltk\n",
    "import nltk \n",
    "# nltk.download('stopwords')               #use only first time \n",
    "import re                                  # library for regular expression operations\\\n",
    "import string                              # for string operations\\\n",
    "from nltk.corpus import stopwords          # module for stop words that come with NLTK\\\n",
    "from nltk.stem import PorterStemmer        # module for stemming\\\n",
    "from nltk.tokenize import TweetTokenizer\n",
    "import string\n",
    "import numpy as np\n",
    "import pandas as pd\n",
    "import tensorflow as tf\n",
    "from matplotlib import pyplot as plt \n",
    "from tensorflow.keras.optimizers import Adam"
   ]
  },
  {
   "cell_type": "code",
   "execution_count": 14,
   "id": "c8b6596b-1ade-4785-a788-8a4db2554862",
   "metadata": {},
   "outputs": [
    {
     "data": {
      "text/html": [
       "<div>\n",
       "<style scoped>\n",
       "    .dataframe tbody tr th:only-of-type {\n",
       "        vertical-align: middle;\n",
       "    }\n",
       "\n",
       "    .dataframe tbody tr th {\n",
       "        vertical-align: top;\n",
       "    }\n",
       "\n",
       "    .dataframe thead th {\n",
       "        text-align: right;\n",
       "    }\n",
       "</style>\n",
       "<table border=\"1\" class=\"dataframe\">\n",
       "  <thead>\n",
       "    <tr style=\"text-align: right;\">\n",
       "      <th></th>\n",
       "      <th>clean_text</th>\n",
       "      <th>category</th>\n",
       "    </tr>\n",
       "  </thead>\n",
       "  <tbody>\n",
       "    <tr>\n",
       "      <th>0</th>\n",
       "      <td>when modi promised “minimum government maximum...</td>\n",
       "      <td>-1.0</td>\n",
       "    </tr>\n",
       "    <tr>\n",
       "      <th>1</th>\n",
       "      <td>talk all the nonsense and continue all the dra...</td>\n",
       "      <td>0.0</td>\n",
       "    </tr>\n",
       "    <tr>\n",
       "      <th>2</th>\n",
       "      <td>what did just say vote for modi  welcome bjp t...</td>\n",
       "      <td>1.0</td>\n",
       "    </tr>\n",
       "    <tr>\n",
       "      <th>3</th>\n",
       "      <td>asking his supporters prefix chowkidar their n...</td>\n",
       "      <td>1.0</td>\n",
       "    </tr>\n",
       "    <tr>\n",
       "      <th>4</th>\n",
       "      <td>answer who among these the most powerful world...</td>\n",
       "      <td>1.0</td>\n",
       "    </tr>\n",
       "  </tbody>\n",
       "</table>\n",
       "</div>"
      ],
      "text/plain": [
       "                                          clean_text  category\n",
       "0  when modi promised “minimum government maximum...      -1.0\n",
       "1  talk all the nonsense and continue all the dra...       0.0\n",
       "2  what did just say vote for modi  welcome bjp t...       1.0\n",
       "3  asking his supporters prefix chowkidar their n...       1.0\n",
       "4  answer who among these the most powerful world...       1.0"
      ]
     },
     "execution_count": 14,
     "metadata": {},
     "output_type": "execute_result"
    }
   ],
   "source": [
    "df = pd.read_csv('Twitter_Data.csv', index_col=False)\n",
    "df.head()"
   ]
  },
  {
   "cell_type": "code",
   "execution_count": 256,
   "id": "a25201a6-c326-4ed4-8887-e502c3835a17",
   "metadata": {},
   "outputs": [
    {
     "name": "stdout",
     "output_type": "stream",
     "text": [
      "<class 'pandas.core.series.Series'>\n",
      "RangeIndex: 162980 entries, 0 to 162979\n",
      "Series name: category\n",
      "Non-Null Count   Dtype  \n",
      "--------------   -----  \n",
      "162980 non-null  float64\n",
      "dtypes: float64(1)\n",
      "memory usage: 1.2 MB\n"
     ]
    }
   ],
   "source": [
    "# y=pd.DataFrame(y).info()\n",
    "y=df['category'].fillna(0.0)\n",
    "\n",
    "y.info()"
   ]
  },
  {
   "cell_type": "code",
   "execution_count": 15,
   "id": "0da58434-6c95-4a14-8d8b-012025ed63b9",
   "metadata": {},
   "outputs": [
    {
     "name": "stdout",
     "output_type": "stream",
     "text": [
      "<class 'pandas.core.frame.DataFrame'>\n",
      "RangeIndex: 162980 entries, 0 to 162979\n",
      "Data columns (total 2 columns):\n",
      " #   Column      Non-Null Count   Dtype  \n",
      "---  ------      --------------   -----  \n",
      " 0   clean_text  162976 non-null  object \n",
      " 1   category    162973 non-null  float64\n",
      "dtypes: float64(1), object(1)\n",
      "memory usage: 2.5+ MB\n"
     ]
    }
   ],
   "source": [
    "df.info()"
   ]
  },
  {
   "cell_type": "markdown",
   "id": "1f5346f8-a350-48ce-857f-9761fd1a519f",
   "metadata": {},
   "source": [
    "## PreProcess the Text\n",
    "       Remove hyperlinks\n",
    "       Remove hashtags\n",
    "       Tokenizer class\n",
    "       Stop word and punctuation"
   ]
  },
  {
   "cell_type": "code",
   "execution_count": 17,
   "id": "1509f89b-ad22-42a5-882c-9ef4ac49c9ed",
   "metadata": {},
   "outputs": [
    {
     "name": "stdout",
     "output_type": "stream",
     "text": [
      "[['modi', 'promis', '“', 'minimum', 'govern', 'maximum', 'govern', '”', 'expect', 'begin', 'difficult', 'job', 'reform', 'state', 'take', 'year', 'get', 'justic', 'state', 'busi', 'exit', 'psu', 'templ'], ['talk', 'nonsens', 'continu', 'drama', 'vote', 'modi'], ['say', 'vote', 'modi', 'welcom', 'bjp', 'told', 'rahul', 'main', 'campaign', 'modi', 'think', 'modi', 'relax'], ['ask', 'support', 'prefix', 'chowkidar', 'name', 'modi', 'great', 'servic', 'confus', 'read', 'crustal', 'clear', 'crass', 'filthi', 'nonsens', 'see', 'abus', 'come', 'chowkidar'], ['answer', 'among', 'power', 'world', 'leader', 'today', 'trump', 'putin', 'modi', 'may']]\n"
     ]
    }
   ],
   "source": [
    "x= df['clean_text']\n",
    "tokenizer = TweetTokenizer(preserve_case=False, strip_handles=True,reduce_len=True)\n",
    "stopwords_english = stopwords.words('english')\n",
    "ps = PorterStemmer()\n",
    "cleanList=[]\n",
    "for i in x:\n",
    "    # Remove  hyperLink\n",
    "    i = re.sub(r'https?://[^\\\\s\\\\n\\\\r]+', '', str(i))\n",
    "    # Remove Hastag\n",
    "    i = re.sub(r'#', '', i)\n",
    "    # Lowercase\n",
    "    i = i.lower()\n",
    "    # Tokenizer\n",
    "    tweet_tokens = tokenizer.tokenize(i)\n",
    "    # stopword and puncuation\n",
    "    tweets_clean=[]\n",
    "    for word in tweet_tokens: # Go through every word in your tokens list\\\n",
    "        if (word not in stopwords_english and  word not in string.punctuation):\n",
    "                tweets_clean.append(ps.stem(word))\n",
    "    cleanList.append(tweets_clean)\n",
    "print(cleanList[:5])    "
   ]
  },
  {
   "cell_type": "markdown",
   "id": "b49b2010-674b-40c3-b1f3-a56df9be2c58",
   "metadata": {},
   "source": [
    "## Create Frequency Distro"
   ]
  },
  {
   "cell_type": "code",
   "execution_count": 20,
   "id": "cf2b1e91-9bff-44ec-9596-281f7db6123a",
   "metadata": {},
   "outputs": [],
   "source": [
    "f= dict()\n",
    "for i,y in zip(cleanList,df['category']):\n",
    "    for k in i:\n",
    "        if((k,y) not in f.keys()):\n",
    "            f[(k,y)] = 1\n",
    "        else:\n",
    "            f[(k,y)] += 1\n",
    "# print(f.keys())            "
   ]
  },
  {
   "cell_type": "markdown",
   "id": "85e245f1-c0a1-48d3-be82-b417c1f1cd12",
   "metadata": {},
   "source": [
    "## Create the new dataset using the frequency distro "
   ]
  },
  {
   "cell_type": "code",
   "execution_count": 153,
   "id": "7e26aaa3-9009-4f52-a8aa-8fe3f6f62c63",
   "metadata": {},
   "outputs": [
    {
     "name": "stdout",
     "output_type": "stream",
     "text": [
      "[752. 516. 487.   1.]\n"
     ]
    }
   ],
   "source": [
    "X = np.array(())\n",
    "for i in cleanList:\n",
    "    p,ne,n=0,0,0\n",
    "    for j in i:\n",
    "        if((j,1.0) in f.keys()):\n",
    "            p = p + f[(j,1.0)]\n",
    "        if((j,0.0) in f.keys()):\n",
    "            ne = ne + f[( j, 0.0)]\n",
    "        if((j,-1.0) in f.keys()):\n",
    "            n = n + f[( j, -1.0)]\n",
    "    X = np.append(X,[p, ne , n , 1.0])\n",
    "X = np.reshape(X,(df.shape[0],4))\n",
    "print(X[5][:])"
   ]
  },
  {
   "cell_type": "code",
   "execution_count": 154,
   "id": "e3852214-10f4-45e8-8764-72025c94816f",
   "metadata": {},
   "outputs": [
    {
     "data": {
      "text/plain": [
       "array([[1.04486e+05, 6.76830e+04, 5.39860e+04, 1.00000e+00],\n",
       "       [8.25460e+04, 5.77460e+04, 4.12600e+04, 1.00000e+00],\n",
       "       [2.49601e+05, 1.73592e+05, 1.24579e+05, 1.00000e+00],\n",
       "       ...,\n",
       "       [9.85000e+02, 4.87000e+02, 4.87000e+02, 1.00000e+00],\n",
       "       [9.64750e+04, 6.24130e+04, 4.64600e+04, 1.00000e+00],\n",
       "       [1.08858e+05, 6.92810e+04, 5.36750e+04, 1.00000e+00]])"
      ]
     },
     "execution_count": 154,
     "metadata": {},
     "output_type": "execute_result"
    }
   ],
   "source": [
    "X"
   ]
  },
  {
   "cell_type": "code",
   "execution_count": 158,
   "id": "41275ad8-4a5c-42fd-a882-f18af76a807c",
   "metadata": {},
   "outputs": [],
   "source": [
    "from sklearn.preprocessing import StandardScaler\n",
    "X=StandardScaler().fit_transform(X)"
   ]
  },
  {
   "cell_type": "code",
   "execution_count": 159,
   "id": "8d5cef03-a079-4d3d-9109-a416160512e7",
   "metadata": {},
   "outputs": [],
   "source": [
    "np.savetxt(\"X.csv\", X, delimiter=\",\")"
   ]
  },
  {
   "cell_type": "markdown",
   "id": "3f680255-e939-40ad-a8a2-d8cabfba0963",
   "metadata": {},
   "source": [
    "## Spliting data for training set"
   ]
  },
  {
   "cell_type": "code",
   "execution_count": 160,
   "id": "8f0e0c17-5e29-4866-be48-5684d6df65a3",
   "metadata": {},
   "outputs": [],
   "source": [
    "xtrain = X[:int(X.shape[0]*0.5)]\n",
    "y = np.array(df['category'])"
   ]
  },
  {
   "cell_type": "code",
   "execution_count": 161,
   "id": "7622064a-bb4b-4eb1-9bdd-cbd586c762ba",
   "metadata": {},
   "outputs": [
    {
     "data": {
      "text/plain": [
       "[[0, 0, 1], [0, 1, 0], [1, 0, 0], [1, 0, 0], [1, 0, 0]]"
      ]
     },
     "execution_count": 161,
     "metadata": {},
     "output_type": "execute_result"
    }
   ],
   "source": [
    "yN =[]\n",
    "for i in y:\n",
    "    if(i == 1.0):\n",
    "        yN.append([1,0,0])\n",
    "    elif(i==0.0):\n",
    "        yN.append([0,1,0])\n",
    "    else:\n",
    "        yN.append([0,0,1])\n",
    "yN[:5]        "
   ]
  },
  {
   "cell_type": "code",
   "execution_count": 162,
   "id": "a4da9d79-c81b-466b-a3f1-992505ee000e",
   "metadata": {},
   "outputs": [
    {
     "name": "stdout",
     "output_type": "stream",
     "text": [
      "(81490, 3) (81490, 3)\n"
     ]
    }
   ],
   "source": [
    "ytrain = np.array(yN[:int(X.shape[0]*0.5)])\n",
    "xtest = X[int(X.shape[0]*0.5):]\n",
    "ytest = np.array(yN[int(X.shape[0]*0.5):])\n",
    "ytrain = np.reshape(ytrain,(ytrain.shape[0],3))\n",
    "ytest = np.reshape(ytest,(ytest.shape[0],3))\n",
    "print(ytrain.shape, ytest.shape)"
   ]
  },
  {
   "cell_type": "code",
   "execution_count": 163,
   "id": "cd956d6a-ffaf-4cfc-8dd6-01befa9498bb",
   "metadata": {},
   "outputs": [
    {
     "data": {
      "text/plain": [
       "(81490,)"
      ]
     },
     "execution_count": 163,
     "metadata": {},
     "output_type": "execute_result"
    }
   ],
   "source": [
    "ytrain[:,0].shape"
   ]
  },
  {
   "cell_type": "markdown",
   "id": "98689223-f25d-445a-babb-6b8050234c02",
   "metadata": {},
   "source": [
    "## Building muticlass logistic reg using TensorFlow"
   ]
  },
  {
   "cell_type": "code",
   "execution_count": 164,
   "id": "f2c49790-78f1-4399-bc25-72a810d1a923",
   "metadata": {},
   "outputs": [
    {
     "data": {
      "text/plain": [
       "TensorShape([1, 81490])"
      ]
     },
     "execution_count": 164,
     "metadata": {},
     "output_type": "execute_result"
    }
   ],
   "source": [
    "x = tf.constant(xtrain, dtype=tf.float32)\n",
    "y_1 = tf.constant(ytrain[:,0], shape=[1,ytrain.shape[0]],dtype=tf.float32)\n",
    "y_0 = tf.constant(ytrain[:,1], shape=[1,ytrain.shape[0]],dtype=tf.float32)\n",
    "y_neg = tf.constant(ytrain[:,2], shape=[1,ytrain.shape[0]],dtype=tf.float32)\n",
    "y_1.shape"
   ]
  },
  {
   "cell_type": "code",
   "execution_count": 218,
   "id": "77fbcacc-393f-4a49-bced-145e9e8a83f7",
   "metadata": {},
   "outputs": [
    {
     "data": {
      "text/plain": [
       "<tf.Variable 'Variable:0' shape=(1, 4) dtype=float32, numpy=array([[2.3824966 , 0.12693644, 4.616861  , 2.323863  ]], dtype=float32)>"
      ]
     },
     "execution_count": 218,
     "metadata": {},
     "output_type": "execute_result"
    }
   ],
   "source": [
    "w_1=tf.Variable(tf.random.uniform(shape=[1,4], maxval=5, dtype=tf.float32, seed=10))\n",
    "w_0=tf.Variable(tf.random.uniform(shape=[1,4], maxval=5, dtype=tf.float32, seed=10))\n",
    "w_neg=tf.Variable(tf.random.uniform(shape=[1,4], maxval=5, dtype=tf.float32, seed=10))\n",
    "w_neg"
   ]
  },
  {
   "cell_type": "code",
   "execution_count": 219,
   "id": "fe3395ae-9e28-4b6c-9829-e1c59bf38223",
   "metadata": {},
   "outputs": [],
   "source": [
    "opti= Adam(learning_rate=1e-1)\n",
    "alpha =0.01\n",
    "iter =100\n",
    "c=[]\n",
    "for i in range(iter):\n",
    "    with tf.GradientTape() as tape:\n",
    "        yhat_1 = tf.sigmoid(tf.matmul(w_1,tf.transpose(x)))\n",
    "        # yhat_1= tf.clip_by_value(yhat_1, clip_value_min=1e-5, clip_value_max=1)\n",
    "        yhat_0 = tf.math.sigmoid(tf.matmul(w_0,tf.transpose(x)))\n",
    "        # yhat_0= tf.clip_by_value(yhat_0, clip_value_min=1e-5, clip_value_max=1)\n",
    "        yhat_neg = tf.math.sigmoid(tf.matmul(w_neg,tf.transpose(x)))\n",
    "        # yhat_neg= tf.clip_by_value(yhat_neg, clip_value_min=1e-5, clip_value_max=1)\n",
    "        \n",
    "        cost_1 = sum((tf.matmul(y_1,tf.transpose(tf.math.log((tf.clip_by_value(yhat_1, clip_value_min=1e-5, clip_value_max=1)))))+tf.matmul(tf.subtract(1,y_1),tf.transpose(tf.math.log(tf.clip_by_value(tf.subtract(1,yhat_1), clip_value_min=1e-5, clip_value_max=1))))))\n",
    "        cost_0 = sum(tf.matmul(y_0,tf.transpose(tf.math.log(tf.clip_by_value(yhat_0, clip_value_min=1e-5, clip_value_max=1))))+tf.matmul(tf.subtract(1,y_0),tf.transpose(tf.math.log(tf.clip_by_value(tf.subtract(1,yhat_0), clip_value_min=1e-5, clip_value_max=1)))))\n",
    "        cost_neg = sum(tf.matmul(y_neg,tf.transpose(tf.math.log(tf.clip_by_value(yhat_neg, clip_value_min=1e-5, clip_value_max=1))))+tf.matmul(tf.subtract(1,y_neg),tf.transpose(tf.math.log(tf.clip_by_value(tf.subtract(1,yhat_neg), clip_value_min=1e-5, clip_value_max=1)))))\n",
    "        \n",
    "        s =-(cost_1+cost_0+cost_neg)/x.shape[0]\n",
    "\n",
    "    c.append(s)\n",
    "    # print(c)\n",
    "    grad = tape.gradient(s,[w_1,w_0,w_neg])\n",
    "    opti.apply_gradients(zip(grad,[w_1,w_0,w_neg])) # adma optimizer\n",
    "    "
   ]
  },
  {
   "cell_type": "code",
   "execution_count": 220,
   "id": "b9f1a642-d783-4ffe-a4fd-64e9a6c3f442",
   "metadata": {},
   "outputs": [
    {
     "data": {
      "image/png": "[encoded data removed]",
      "text/plain": [
       "<Figure size 432x288 with 1 Axes>"
      ]
     },
     "metadata": {
      "needs_background": "light"
     },
     "output_type": "display_data"
    }
   ],
   "source": [
    "l=np.arange(1,len(c)+1)\n",
    "plt.plot(l, c, label = \"line 2\")\n",
    "  \n",
    "# naming the x axis -->\n",
    "plt.xlabel('iteration')\n",
    "# naming the y axis\n",
    "plt.ylabel('cost')\n",
    "# giving a title to my graph\n",
    "plt.title('Cost function Recommendor system!')\n",
    "  \n",
    "# show a legend on the plot\n",
    "plt.legend()\n",
    "  \n",
    "# function to show the plot\n",
    "plt.show()"
   ]
  },
  {
   "cell_type": "markdown",
   "id": "1599e011-9a94-4c33-85e8-ebd46fe04982",
   "metadata": {},
   "source": [
    "## Prediction"
   ]
  },
  {
   "cell_type": "code",
   "execution_count": 245,
   "id": "fd6c3da5-160d-41be-a595-60b9671359dc",
   "metadata": {},
   "outputs": [
    {
     "name": "stdout",
     "output_type": "stream",
     "text": [
      "(1, 81490)\n",
      "13987 43936 23567\n"
     ]
    }
   ],
   "source": [
    "extra_1 = np.exp(-np.matmul(w_1,np.transpose(xtest)))\n",
    "extra_0 = np.exp(-np.matmul(w_0,np.transpose(xtest)))\n",
    "extra_neg = np.exp(-np.matmul(w_neg,np.transpose(xtest)))\n",
    "\n",
    "# extra.shape\n",
    "temp_1 = 1/(1+extra_1)\n",
    "temp_0 = 1/(1+extra_0)\n",
    "temp_neg = 1/(1+extra_neg)\n",
    "print(temp_1.shape)\n",
    "yhat = []\n",
    "o,z,no=0,0,0\n",
    "a= temp_1.reshape((temp_1.shape[1],)).tolist()\n",
    "b= temp_0.reshape((temp_0.shape[1],)).tolist()\n",
    "c= temp_neg.reshape((temp_neg.shape[1],)).tolist()\n",
    "# print(a)\n",
    "for i,j,k in zip(a,b,c):\n",
    "        big = max(i,j,k)\n",
    "        if(i == big):\n",
    "            yhat.append(1.0)\n",
    "            o=o+1\n",
    "        elif(j == big):\n",
    "            yhat.append(0.0)\n",
    "            z=z+1\n",
    "        elif(k == big):\n",
    "            yhat.append(-1.0)\n",
    "            no=no+1\n",
    "        \n",
    "print(o,z,no)  "
   ]
  },
  {
   "cell_type": "code",
   "execution_count": 256,
   "id": "c799a527-34fa-4821-8e5f-3522cb6d6e98",
   "metadata": {},
   "outputs": [
    {
     "name": "stdout",
     "output_type": "stream",
     "text": [
      "<class 'pandas.core.series.Series'>\n",
      "RangeIndex: 162980 entries, 0 to 162979\n",
      "Series name: category\n",
      "Non-Null Count   Dtype  \n",
      "--------------   -----  \n",
      "162980 non-null  float64\n",
      "dtypes: float64(1)\n",
      "memory usage: 1.2 MB\n"
     ]
    }
   ],
   "source": [
    "# y=pd.DataFrame(y).info()\n",
    "y=df['category'].fillna(0.0)\n",
    "\n",
    "y.info()"
   ]
  },
  {
   "cell_type": "code",
   "execution_count": 239,
   "id": "a0c2adb0-d991-4dbb-9e9f-c678e9608de4",
   "metadata": {},
   "outputs": [],
   "source": [
    "np.savetxt(\"w_1.csv\", w_1, delimiter=\",\")\n",
    "np.savetxt(\"w_0.csv\", w_0, delimiter=\",\")\n",
    "np.savetxt(\"w_neg.csv\", w_neg, delimiter=\",\")\n"
   ]
  },
  {
   "cell_type": "markdown",
   "id": "dd31a766-86a3-4064-9a43-400e7f192d4c",
   "metadata": {},
   "source": [
    "## Acurracy"
   ]
  },
  {
   "cell_type": "code",
   "execution_count": 257,
   "id": "77fe138f-c851-4daf-8ec3-e10355a611db",
   "metadata": {},
   "outputs": [
    {
     "data": {
      "text/plain": [
       "(81490, 1)"
      ]
     },
     "execution_count": 257,
     "metadata": {},
     "output_type": "execute_result"
    }
   ],
   "source": [
    "ytN=np.array(y[int(X.shape[0]*0.5):])\n",
    "ytest = np.array(ytN)\n",
    "ytest = np.reshape((ytest),(ytest.shape[0],1))\n",
    "ytest.shape"
   ]
  },
  {
   "cell_type": "code",
   "execution_count": 258,
   "id": "0176e28a-e3e8-4cea-b55a-f0224ef998d1",
   "metadata": {},
   "outputs": [
    {
     "data": {
      "text/plain": [
       "(81490, 1)"
      ]
     },
     "execution_count": 258,
     "metadata": {},
     "output_type": "execute_result"
    }
   ],
   "source": [
    "yhat = np.array(yhat)\n",
    "yhat=np.reshape((yhat),(yhat.shape[0],1))\n",
    "yhat.shape"
   ]
  },
  {
   "cell_type": "code",
   "execution_count": 259,
   "id": "0252d91d-9035-41c4-9839-289671a6f601",
   "metadata": {},
   "outputs": [
    {
     "data": {
      "text/plain": [
       "0.45821573199165544"
      ]
     },
     "execution_count": 259,
     "metadata": {},
     "output_type": "execute_result"
    }
   ],
   "source": [
    "from sklearn.metrics import accuracy_score\n",
    "accuracy_score(ytest, yhat)"
   ]
  },
  {
   "cell_type": "code",
   "execution_count": 261,
   "id": "b77c3b64-6798-4900-8d3b-5d3900323087",
   "metadata": {},
   "outputs": [
    {
     "data": {
      "text/plain": [
       "0.45821573199165544"
      ]
     },
     "execution_count": 261,
     "metadata": {},
     "output_type": "execute_result"
    }
   ],
   "source": [
    "from sklearn.metrics import f1_score\n",
    "f1_score(ytest, yhat, average='micro')"
   ]
  },
  {
   "cell_type": "code",
   "execution_count": 263,
   "id": "e8f239e3-e1a1-4631-bf64-ef384ddb7130",
   "metadata": {},
   "outputs": [
    {
     "data": {
      "image/png": "[encoded data removed]",
      "text/plain": [
       "<Figure size 432x288 with 2 Axes>"
      ]
     },
     "metadata": {
      "needs_background": "light"
     },
     "output_type": "display_data"
    }
   ],
   "source": [
    "from sklearn.metrics import *\n",
    "\n",
    "confusion_matrix = confusion_matrix(ytest, yhat)\n",
    "\n",
    "cm_display = ConfusionMatrixDisplay(confusion_matrix = confusion_matrix, display_labels = [1, 0,-1])\n",
    "\n",
    "cm_display.plot()\n",
    "plt.show()"
   ]
  },
  {
   "cell_type": "code",
   "execution_count": null,
   "id": "c0c0bc19-169d-477b-bc4c-51175ba1417f",
   "metadata": {},
   "outputs": [],
   "source": []
  }
 ],
 "metadata": {
  "kernelspec": {
   "display_name": "Python 3 (ipykernel)",
   "language": "python",
   "name": "python3"
  },
  "language_info": {
   "codemirror_mode": {
    "name": "ipython",
    "version": 3
   },
   "file_extension": ".py",
   "mimetype": "text/x-python",
   "name": "python",
   "nbconvert_exporter": "python",
   "pygments_lexer": "ipython3",
   "version": "3.9.12"
  }
 },
 "nbformat": 4,
 "nbformat_minor": 5
}

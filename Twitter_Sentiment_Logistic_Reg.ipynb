{
 "cells": [
  {
   "cell_type": "code",
   "execution_count": 1,
   "id": "d681e6db-6dc3-4547-81dd-e079452bdcac",
   "metadata": {},
   "outputs": [],
   "source": [
    "import nltk\n",
    "import nltk \n",
    "# nltk.download('stopwords')               #use only first time \n",
    "import re                                  # library for regular expression operations\\\n",
    "import string                              # for string operations\\\n",
    "from nltk.corpus import stopwords          # module for stop words that come with NLTK\\\n",
    "from nltk.stem import PorterStemmer        # module for stemming\\\n",
    "from nltk.tokenize import TweetTokenizer\n",
    "import string\n",
    "import numpy as np\n",
    "import pandas as pd\n",
    "import tensorflow as tf\n",
    "from matplotlib import pyplot as plt \n",
    "from tensorflow.keras.optimizers import Adam"
   ]
  },
  {
   "cell_type": "code",
   "execution_count": 2,
   "id": "c8b6596b-1ade-4785-a788-8a4db2554862",
   "metadata": {},
   "outputs": [
    {
     "data": {
      "text/html": [
       "<div>\n",
       "<style scoped>\n",
       "    .dataframe tbody tr th:only-of-type {\n",
       "        vertical-align: middle;\n",
       "    }\n",
       "\n",
       "    .dataframe tbody tr th {\n",
       "        vertical-align: top;\n",
       "    }\n",
       "\n",
       "    .dataframe thead th {\n",
       "        text-align: right;\n",
       "    }\n",
       "</style>\n",
       "<table border=\"1\" class=\"dataframe\">\n",
       "  <thead>\n",
       "    <tr style=\"text-align: right;\">\n",
       "      <th></th>\n",
       "      <th>clean_text</th>\n",
       "      <th>category</th>\n",
       "    </tr>\n",
       "  </thead>\n",
       "  <tbody>\n",
       "    <tr>\n",
       "      <th>0</th>\n",
       "      <td>when modi promised “minimum government maximum...</td>\n",
       "      <td>-1.0</td>\n",
       "    </tr>\n",
       "    <tr>\n",
       "      <th>1</th>\n",
       "      <td>talk all the nonsense and continue all the dra...</td>\n",
       "      <td>0.0</td>\n",
       "    </tr>\n",
       "    <tr>\n",
       "      <th>2</th>\n",
       "      <td>what did just say vote for modi  welcome bjp t...</td>\n",
       "      <td>1.0</td>\n",
       "    </tr>\n",
       "    <tr>\n",
       "      <th>3</th>\n",
       "      <td>asking his supporters prefix chowkidar their n...</td>\n",
       "      <td>1.0</td>\n",
       "    </tr>\n",
       "    <tr>\n",
       "      <th>4</th>\n",
       "      <td>answer who among these the most powerful world...</td>\n",
       "      <td>1.0</td>\n",
       "    </tr>\n",
       "  </tbody>\n",
       "</table>\n",
       "</div>"
      ],
      "text/plain": [
       "                                          clean_text  category\n",
       "0  when modi promised “minimum government maximum...      -1.0\n",
       "1  talk all the nonsense and continue all the dra...       0.0\n",
       "2  what did just say vote for modi  welcome bjp t...       1.0\n",
       "3  asking his supporters prefix chowkidar their n...       1.0\n",
       "4  answer who among these the most powerful world...       1.0"
      ]
     },
     "execution_count": 2,
     "metadata": {},
     "output_type": "execute_result"
    }
   ],
   "source": [
    "df = pd.read_csv('Twitter_Data.csv', index_col=False)\n",
    "df.head()"
   ]
  },
  {
   "cell_type": "code",
   "execution_count": 3,
   "id": "b288539f-6d4d-42bd-89eb-4824e072836e",
   "metadata": {},
   "outputs": [
    {
     "name": "stdout",
     "output_type": "stream",
     "text": [
      "<class 'pandas.core.frame.DataFrame'>\n",
      "RangeIndex: 162980 entries, 0 to 162979\n",
      "Data columns (total 2 columns):\n",
      " #   Column      Non-Null Count   Dtype  \n",
      "---  ------      --------------   -----  \n",
      " 0   clean_text  162976 non-null  object \n",
      " 1   category    162973 non-null  float64\n",
      "dtypes: float64(1), object(1)\n",
      "memory usage: 2.5+ MB\n"
     ]
    }
   ],
   "source": [
    "df.info()"
   ]
  },
  {
   "cell_type": "code",
   "execution_count": 4,
   "id": "51d1afae-94c2-417e-a85c-2d1adf362beb",
   "metadata": {},
   "outputs": [
    {
     "name": "stdout",
     "output_type": "stream",
     "text": [
      "<class 'pandas.core.frame.DataFrame'>\n",
      "Int64Index: 162969 entries, 0 to 162979\n",
      "Data columns (total 2 columns):\n",
      " #   Column      Non-Null Count   Dtype  \n",
      "---  ------      --------------   -----  \n",
      " 0   clean_text  162969 non-null  object \n",
      " 1   category    162969 non-null  float64\n",
      "dtypes: float64(1), object(1)\n",
      "memory usage: 3.7+ MB\n"
     ]
    }
   ],
   "source": [
    "df1 = df.dropna()\n",
    "df1.info()"
   ]
  },
  {
   "cell_type": "code",
   "execution_count": 5,
   "id": "a25201a6-c326-4ed4-8887-e502c3835a17",
   "metadata": {},
   "outputs": [
    {
     "name": "stdout",
     "output_type": "stream",
     "text": [
      "<class 'pandas.core.frame.DataFrame'>\n",
      "Int64Index: 162969 entries, 0 to 162979\n",
      "Data columns (total 2 columns):\n",
      " #   Column      Non-Null Count   Dtype  \n",
      "---  ------      --------------   -----  \n",
      " 0   clean_text  162969 non-null  object \n",
      " 1   category    162969 non-null  float64\n",
      "dtypes: float64(1), object(1)\n",
      "memory usage: 3.7+ MB\n"
     ]
    }
   ],
   "source": [
    "df =  df1.copy()\n",
    "df.info()"
   ]
  },
  {
   "cell_type": "markdown",
   "id": "1f5346f8-a350-48ce-857f-9761fd1a519f",
   "metadata": {},
   "source": [
    "## PreProcess the Text\n",
    "       Remove hyperlinks\n",
    "       Remove hashtags\n",
    "       Tokenizer class\n",
    "       Stop word and punctuation"
   ]
  },
  {
   "cell_type": "code",
   "execution_count": 6,
   "id": "1509f89b-ad22-42a5-882c-9ef4ac49c9ed",
   "metadata": {},
   "outputs": [
    {
     "name": "stdout",
     "output_type": "stream",
     "text": [
      "[['modi', 'promis', '“', 'minimum', 'govern', 'maximum', 'govern', '”', 'expect', 'begin', 'difficult', 'job', 'reform', 'state', 'take', 'year', 'get', 'justic', 'state', 'busi', 'exit', 'psu', 'templ'], ['talk', 'nonsens', 'continu', 'drama', 'vote', 'modi'], ['say', 'vote', 'modi', 'welcom', 'bjp', 'told', 'rahul', 'main', 'campaign', 'modi', 'think', 'modi', 'relax'], ['ask', 'support', 'prefix', 'chowkidar', 'name', 'modi', 'great', 'servic', 'confus', 'read', 'crustal', 'clear', 'crass', 'filthi', 'nonsens', 'see', 'abus', 'come', 'chowkidar'], ['answer', 'among', 'power', 'world', 'leader', 'today', 'trump', 'putin', 'modi', 'may']]\n"
     ]
    }
   ],
   "source": [
    "x= df['clean_text']\n",
    "tokenizer = TweetTokenizer(preserve_case=False, strip_handles=True,reduce_len=True)\n",
    "stopwords_english = stopwords.words('english')\n",
    "ps = PorterStemmer()\n",
    "cleanList=[]\n",
    "for i in x:\n",
    "    # Remove  hyperLink\n",
    "    i = re.sub(r'https?://[^\\\\s\\\\n\\\\r]+', '', str(i))\n",
    "    # Remove Hastag\n",
    "    i = re.sub(r'#', '', i)\n",
    "    # Lowercase\n",
    "    i = i.lower()\n",
    "    # Tokenizer\n",
    "    tweet_tokens = tokenizer.tokenize(i)\n",
    "    # stopword and puncuation\n",
    "    tweets_clean=[]\n",
    "    for word in tweet_tokens: # Go through every word in your tokens list\\\n",
    "        if (word not in stopwords_english and  word not in string.punctuation):\n",
    "                tweets_clean.append(ps.stem(word))\n",
    "    cleanList.append(tweets_clean)\n",
    "print(cleanList[:5])    "
   ]
  },
  {
   "cell_type": "markdown",
   "id": "b49b2010-674b-40c3-b1f3-a56df9be2c58",
   "metadata": {},
   "source": [
    "## Create Frequency Distro"
   ]
  },
  {
   "cell_type": "code",
   "execution_count": 7,
   "id": "cf2b1e91-9bff-44ec-9596-281f7db6123a",
   "metadata": {},
   "outputs": [],
   "source": [
    "f= dict()\n",
    "for i,y in zip(cleanList,df['category']):\n",
    "    for k in i:\n",
    "        if((k,y) not in f.keys()):\n",
    "            f[(k,y)] = 1\n",
    "        else:\n",
    "            f[(k,y)] += 1\n",
    "# print(f.keys())            "
   ]
  },
  {
   "cell_type": "markdown",
   "id": "85e245f1-c0a1-48d3-be82-b417c1f1cd12",
   "metadata": {},
   "source": [
    "## Create the new dataset using the frequency distro "
   ]
  },
  {
   "cell_type": "code",
   "execution_count": 8,
   "id": "7e26aaa3-9009-4f52-a8aa-8fe3f6f62c63",
   "metadata": {},
   "outputs": [
    {
     "name": "stdout",
     "output_type": "stream",
     "text": [
      "[752. 516. 487.   1.]\n"
     ]
    }
   ],
   "source": [
    "X = np.array(())\n",
    "for i in cleanList:\n",
    "    p,ne,n=0,0,0\n",
    "    for j in i:\n",
    "        if((j,1.0) in f.keys()):\n",
    "            p = p + f[(j,1.0)]\n",
    "        if((j,0.0) in f.keys()):\n",
    "            ne = ne + f[( j, 0.0)]\n",
    "        if((j,-1.0) in f.keys()):\n",
    "            n = n + f[( j, -1.0)]\n",
    "    X = np.append(X,[p, ne , n , 1.0])\n",
    "X = np.reshape(X,(df.shape[0],4))\n",
    "print(X[5][:])"
   ]
  },
  {
   "cell_type": "code",
   "execution_count": 9,
   "id": "e3852214-10f4-45e8-8764-72025c94816f",
   "metadata": {},
   "outputs": [
    {
     "data": {
      "text/plain": [
       "array([[1.04486e+05, 6.76830e+04, 5.39860e+04, 1.00000e+00],\n",
       "       [8.25460e+04, 5.77460e+04, 4.12600e+04, 1.00000e+00],\n",
       "       [2.49601e+05, 1.73592e+05, 1.24579e+05, 1.00000e+00],\n",
       "       ...,\n",
       "       [9.85000e+02, 4.87000e+02, 4.87000e+02, 1.00000e+00],\n",
       "       [9.64750e+04, 6.24130e+04, 4.64600e+04, 1.00000e+00],\n",
       "       [1.08858e+05, 6.92810e+04, 5.36750e+04, 1.00000e+00]])"
      ]
     },
     "execution_count": 9,
     "metadata": {},
     "output_type": "execute_result"
    }
   ],
   "source": [
    "X"
   ]
  },
  {
   "cell_type": "code",
   "execution_count": 10,
   "id": "41275ad8-4a5c-42fd-a882-f18af76a807c",
   "metadata": {},
   "outputs": [],
   "source": [
    "from sklearn.preprocessing import StandardScaler\n",
    "X=StandardScaler().fit_transform(X)"
   ]
  },
  {
   "cell_type": "code",
   "execution_count": 11,
   "id": "8d5cef03-a079-4d3d-9109-a416160512e7",
   "metadata": {},
   "outputs": [],
   "source": [
    "np.savetxt(\"X.csv\", X, delimiter=\",\")"
   ]
  },
  {
   "cell_type": "markdown",
   "id": "3f680255-e939-40ad-a8a2-d8cabfba0963",
   "metadata": {},
   "source": [
    "## Spliting data for training set"
   ]
  },
  {
   "cell_type": "code",
   "execution_count": 12,
   "id": "8f0e0c17-5e29-4866-be48-5684d6df65a3",
   "metadata": {},
   "outputs": [],
   "source": [
    "xtrain = X[:int(X.shape[0]*0.8)]\n",
    "y = np.array(df['category'])"
   ]
  },
  {
   "cell_type": "code",
   "execution_count": 13,
   "id": "7622064a-bb4b-4eb1-9bdd-cbd586c762ba",
   "metadata": {},
   "outputs": [
    {
     "data": {
      "text/plain": [
       "[[0, 0, 1], [0, 1, 0], [1, 0, 0], [1, 0, 0], [1, 0, 0]]"
      ]
     },
     "execution_count": 13,
     "metadata": {},
     "output_type": "execute_result"
    }
   ],
   "source": [
    "yN =[]\n",
    "for i in y:\n",
    "    if(i == 1.0):\n",
    "        yN.append([1,0,0])\n",
    "    elif(i==0.0):\n",
    "        yN.append([0,1,0])\n",
    "    else:\n",
    "        yN.append([0,0,1])\n",
    "yN[:5]        "
   ]
  },
  {
   "cell_type": "code",
   "execution_count": 14,
   "id": "a4da9d79-c81b-466b-a3f1-992505ee000e",
   "metadata": {},
   "outputs": [
    {
     "name": "stdout",
     "output_type": "stream",
     "text": [
      "(130375, 3) (32594, 3)\n"
     ]
    }
   ],
   "source": [
    "ytrain = np.array(yN[:int(X.shape[0]*0.8)])\n",
    "xtest = X[int(X.shape[0]*0.8):]\n",
    "ytest = np.array(yN[int(X.shape[0]*0.8):])\n",
    "ytrain = np.reshape(ytrain,(ytrain.shape[0],3))\n",
    "ytest = np.reshape(ytest,(ytest.shape[0],3))\n",
    "print(ytrain.shape, ytest.shape)"
   ]
  },
  {
   "cell_type": "code",
   "execution_count": 15,
   "id": "cd956d6a-ffaf-4cfc-8dd6-01befa9498bb",
   "metadata": {},
   "outputs": [
    {
     "data": {
      "text/plain": [
       "(130375,)"
      ]
     },
     "execution_count": 15,
     "metadata": {},
     "output_type": "execute_result"
    }
   ],
   "source": [
    "ytrain[:,0].shape"
   ]
  },
  {
   "cell_type": "markdown",
   "id": "98689223-f25d-445a-babb-6b8050234c02",
   "metadata": {},
   "source": [
    "## Building muticlass logistic reg using TensorFlow"
   ]
  },
  {
   "cell_type": "code",
   "execution_count": 16,
   "id": "f2c49790-78f1-4399-bc25-72a810d1a923",
   "metadata": {},
   "outputs": [
    {
     "data": {
      "text/plain": [
       "TensorShape([1, 130375])"
      ]
     },
     "execution_count": 16,
     "metadata": {},
     "output_type": "execute_result"
    }
   ],
   "source": [
    "x = tf.constant(xtrain, dtype=tf.float32)\n",
    "y_1 = tf.constant(ytrain[:,0], shape=[1,ytrain.shape[0]],dtype=tf.float32)\n",
    "y_0 = tf.constant(ytrain[:,1], shape=[1,ytrain.shape[0]],dtype=tf.float32)\n",
    "y_neg = tf.constant(ytrain[:,2], shape=[1,ytrain.shape[0]],dtype=tf.float32)\n",
    "y_1.shape"
   ]
  },
  {
   "cell_type": "code",
   "execution_count": 83,
   "id": "77fbcacc-393f-4a49-bced-145e9e8a83f7",
   "metadata": {},
   "outputs": [
    {
     "data": {
      "text/plain": [
       "<tf.Variable 'Variable:0' shape=(1, 4) dtype=float32, numpy=array([[2.2165625, 2.0362022, 1.7966592, 1.699023 ]], dtype=float32)>"
      ]
     },
     "execution_count": 83,
     "metadata": {},
     "output_type": "execute_result"
    }
   ],
   "source": [
    "w_1=tf.Variable(tf.random.uniform(shape=[1,4], minval=1,maxval=3, dtype=tf.float32, seed=123456789))\n",
    "w_0=tf.Variable(tf.random.uniform(shape=[1,4], minval=1,maxval=3, dtype=tf.float32, seed=123456789))\n",
    "w_neg=tf.Variable(tf.random.uniform(shape=[1,4], minval=1,maxval=3, dtype=tf.float32, seed=123456789))\n",
    "w_neg"
   ]
  },
  {
   "cell_type": "code",
   "execution_count": 84,
   "id": "fe3395ae-9e28-4b6c-9829-e1c59bf38223",
   "metadata": {},
   "outputs": [],
   "source": [
    "opti= Adam(learning_rate=1e-1)\n",
    "min_val,max_val = 1e-20,1e+20\n",
    "iter =300\n",
    "c=[]\n",
    "for i in range(iter):\n",
    "    with tf.GradientTape() as tape:\n",
    "        yhat_1 = tf.sigmoid(tf.matmul(w_1,tf.transpose(x)))\n",
    "        # yhat_1= tf.clip_by_value(yhat_1, clip_value_min=1e-5, clip_value_max=1)\n",
    "        yhat_0 = tf.math.sigmoid(tf.matmul(w_0,tf.transpose(x)))\n",
    "        # yhat_0= tf.clip_by_value(yhat_0, clip_value_min=1e-5, clip_value_max=1)\n",
    "        yhat_neg = tf.math.sigmoid(tf.matmul(w_neg,tf.transpose(x)))\n",
    "        # yhat_neg= tf.clip_by_value(yhat_neg, clip_value_min=1e-5, clip_value_max=1)\n",
    "        \n",
    "        cost_1 = sum((tf.matmul(y_1,tf.transpose(tf.math.log((tf.clip_by_value(yhat_1, clip_value_min=min_val, clip_value_max=max_val)))))+tf.matmul(tf.subtract(1,y_1),tf.transpose(tf.math.log(tf.clip_by_value(tf.subtract(1,yhat_1), clip_value_min=min_val, clip_value_max=max_val))))))\n",
    "        cost_0 = sum(tf.matmul(y_0,tf.transpose(tf.math.log(tf.clip_by_value(yhat_0, clip_value_min=min_val, clip_value_max=max_val))))+tf.matmul(tf.subtract(1,y_0),tf.transpose(tf.math.log(tf.clip_by_value(tf.subtract(1,yhat_0), clip_value_min=min_val, clip_value_max=max_val)))))\n",
    "        cost_neg = sum(tf.matmul(y_neg,tf.transpose(tf.math.log(tf.clip_by_value(yhat_neg, clip_value_min=min_val, clip_value_max=max_val))))+tf.matmul(tf.subtract(1,y_neg),tf.transpose(tf.math.log(tf.clip_by_value(tf.subtract(1,yhat_neg), clip_value_min=min_val, clip_value_max=max_val)))))\n",
    "        \n",
    "        s =-(cost_1+cost_0+cost_neg)/x.shape[0]\n",
    "\n",
    "    c.append(s)\n",
    "    grad = tape.gradient(s,[w_1,w_0,w_neg])\n",
    "    opti.apply_gradients(zip(grad,[w_1,w_0,w_neg])) # adma optimizer\n",
    "    "
   ]
  },
  {
   "cell_type": "code",
   "execution_count": 85,
   "id": "b9f1a642-d783-4ffe-a4fd-64e9a6c3f442",
   "metadata": {},
   "outputs": [
    {
     "data": {
      "image/png": "[encoded data removed]",
      "text/plain": [
       "<Figure size 432x288 with 1 Axes>"
      ]
     },
     "metadata": {
      "needs_background": "light"
     },
     "output_type": "display_data"
    }
   ],
   "source": [
    "l=np.arange(1,len(c)+1)\n",
    "plt.plot(l, c, label = \"line 2\")\n",
    "  \n",
    "# naming the x axis -->\n",
    "plt.xlabel('iteration')\n",
    "# naming the y axis\n",
    "plt.ylabel('cost')\n",
    "# giving a title to my graph\n",
    "plt.title('Cost function Recommendor system!')\n",
    "  \n",
    "# show a legend on the plot\n",
    "plt.legend()\n",
    "  \n",
    "# function to show the plot\n",
    "plt.show()"
   ]
  },
  {
   "cell_type": "markdown",
   "id": "1599e011-9a94-4c33-85e8-ebd46fe04982",
   "metadata": {},
   "source": [
    "## Prediction"
   ]
  },
  {
   "cell_type": "code",
   "execution_count": 86,
   "id": "fd6c3da5-160d-41be-a595-60b9671359dc",
   "metadata": {},
   "outputs": [
    {
     "name": "stdout",
     "output_type": "stream",
     "text": [
      "(1, 32594)\n",
      "8922 16657 7015\n"
     ]
    }
   ],
   "source": [
    "extra_1 = np.exp(-np.matmul(w_1,np.transpose(xtest)))\n",
    "extra_0 = np.exp(-np.matmul(w_0,np.transpose(xtest)))\n",
    "extra_neg = np.exp(-np.matmul(w_neg,np.transpose(xtest)))\n",
    "\n",
    "# extra.shape\n",
    "temp_1 = 1/(1+extra_1)\n",
    "temp_0 = 1/(1+extra_0)\n",
    "temp_neg = 1/(1+extra_neg)\n",
    "print(temp_1.shape)\n",
    "yhat = []\n",
    "o,z,no=0,0,0\n",
    "a= temp_1.reshape((temp_1.shape[1],)).tolist()\n",
    "b= temp_0.reshape((temp_0.shape[1],)).tolist()\n",
    "c= temp_neg.reshape((temp_neg.shape[1],)).tolist()\n",
    "# print(a)\n",
    "for i,j,k in zip(a,b,c):\n",
    "        big = max(i,j,k)\n",
    "        if(i == big):\n",
    "            yhat.append(1.0)\n",
    "            o=o+1\n",
    "        elif(j == big):\n",
    "            yhat.append(0.0)\n",
    "            z=z+1\n",
    "        elif(k == big):\n",
    "            yhat.append(-1.0)\n",
    "            no=no+1\n",
    "        \n",
    "print(o,z,no)  "
   ]
  },
  {
   "cell_type": "code",
   "execution_count": 87,
   "id": "a0c2adb0-d991-4dbb-9e9f-c678e9608de4",
   "metadata": {},
   "outputs": [],
   "source": [
    "np.savetxt(\"w_1.csv\", w_1, delimiter=\",\")\n",
    "np.savetxt(\"w_0.csv\", w_0, delimiter=\",\")\n",
    "np.savetxt(\"w_neg.csv\", w_neg, delimiter=\",\")\n"
   ]
  },
  {
   "cell_type": "markdown",
   "id": "dd31a766-86a3-4064-9a43-400e7f192d4c",
   "metadata": {},
   "source": [
    "## Acurracy"
   ]
  },
  {
   "cell_type": "code",
   "execution_count": 88,
   "id": "77fe138f-c851-4daf-8ec3-e10355a611db",
   "metadata": {},
   "outputs": [
    {
     "data": {
      "text/plain": [
       "(32594, 1)"
      ]
     },
     "execution_count": 88,
     "metadata": {},
     "output_type": "execute_result"
    }
   ],
   "source": [
    "ytN=np.array(y[int(X.shape[0]*0.8):])\n",
    "ytest = np.array(ytN)\n",
    "ytest = np.reshape((ytest),(ytest.shape[0],1))\n",
    "ytest.shape"
   ]
  },
  {
   "cell_type": "code",
   "execution_count": 89,
   "id": "0176e28a-e3e8-4cea-b55a-f0224ef998d1",
   "metadata": {},
   "outputs": [
    {
     "data": {
      "text/plain": [
       "(32594, 1)"
      ]
     },
     "execution_count": 89,
     "metadata": {},
     "output_type": "execute_result"
    }
   ],
   "source": [
    "yhat = np.array(yhat)\n",
    "yhat=np.reshape((yhat),(yhat.shape[0],1))\n",
    "yhat.shape"
   ]
  },
  {
   "cell_type": "code",
   "execution_count": 80,
   "id": "0252d91d-9035-41c4-9839-289671a6f601",
   "metadata": {},
   "outputs": [
    {
     "data": {
      "text/plain": [
       "0.5399460023317175"
      ]
     },
     "execution_count": 80,
     "metadata": {},
     "output_type": "execute_result"
    }
   ],
   "source": [
    "from sklearn.metrics import accuracy_score\n",
    "accuracy_score(ytest, yhat)"
   ]
  },
  {
   "cell_type": "code",
   "execution_count": 90,
   "id": "b77c3b64-6798-4900-8d3b-5d3900323087",
   "metadata": {},
   "outputs": [
    {
     "data": {
      "text/plain": [
       "0.5350064429036019"
      ]
     },
     "execution_count": 90,
     "metadata": {},
     "output_type": "execute_result"
    }
   ],
   "source": [
    "from sklearn.metrics import f1_score\n",
    "f1_score(ytest, yhat, average='micro')"
   ]
  },
  {
   "cell_type": "code",
   "execution_count": 91,
   "id": "e8f239e3-e1a1-4631-bf64-ef384ddb7130",
   "metadata": {},
   "outputs": [
    {
     "data": {
      "image/png": "[encoded data removed]",
      "text/plain": [
       "<Figure size 432x288 with 2 Axes>"
      ]
     },
     "metadata": {
      "needs_background": "light"
     },
     "output_type": "display_data"
    }
   ],
   "source": [
    "from sklearn.metrics import *\n",
    "\n",
    "confusion_matrix = confusion_matrix(ytest, yhat)\n",
    "\n",
    "cm_display = ConfusionMatrixDisplay(confusion_matrix = confusion_matrix, display_labels = [1, 0,-1])\n",
    "\n",
    "cm_display.plot()\n",
    "plt.show()"
   ]
  },
  {
   "cell_type": "markdown",
   "id": "86b0757f-6de0-4551-ae04-a1776e30a7eb",
   "metadata": {},
   "source": [
    "## Traning the model on built in Logistic reg for multinomial class"
   ]
  },
  {
   "cell_type": "code",
   "execution_count": 93,
   "id": "6f60a6cf-6e6b-4f7a-8333-140b11a3edcb",
   "metadata": {},
   "outputs": [],
   "source": [
    "from sklearn import linear_model"
   ]
  },
  {
   "cell_type": "code",
   "execution_count": 105,
   "id": "36ddd738-e61c-4d52-bc68-de5d4e4ee425",
   "metadata": {},
   "outputs": [],
   "source": [
    "model_LOR = linear_model.LogisticRegression(multi_class='ovr',solver='liblinear',max_iter=300, verbose=2)"
   ]
  },
  {
   "cell_type": "code",
   "execution_count": 96,
   "id": "e82eb388-b077-4457-ac1c-ec945c4cc8a5",
   "metadata": {},
   "outputs": [
    {
     "data": {
      "text/plain": [
       "(32594,)"
      ]
     },
     "execution_count": 96,
     "metadata": {},
     "output_type": "execute_result"
    }
   ],
   "source": [
    "from sklearn import model_selection\n",
    "X_train, X_test, y_train, y_test = model_selection.train_test_split(X, y, test_size= 0.2, random_state = 1)\n",
    "y_test.shape"
   ]
  },
  {
   "cell_type": "code",
   "execution_count": 106,
   "id": "f02c83bc-5ebd-42b0-ae2b-a49cbab8c880",
   "metadata": {},
   "outputs": [
    {
     "name": "stdout",
     "output_type": "stream",
     "text": [
      "[LibLinear]"
     ]
    },
    {
     "data": {
      "text/html": [
       "<style>#sk-container-id-3 {color: black;background-color: white;}#sk-container-id-3 pre{padding: 0;}#sk-container-id-3 div.sk-toggleable {background-color: white;}#sk-container-id-3 label.sk-toggleable__label {cursor: pointer;display: block;width: 100%;margin-bottom: 0;padding: 0.3em;box-sizing: border-box;text-align: center;}#sk-container-id-3 label.sk-toggleable__label-arrow:before {content: \"▸\";float: left;margin-right: 0.25em;color: #696969;}#sk-container-id-3 label.sk-toggleable__label-arrow:hover:before {color: black;}#sk-container-id-3 div.sk-estimator:hover label.sk-toggleable__label-arrow:before {color: black;}#sk-container-id-3 div.sk-toggleable__content {max-height: 0;max-width: 0;overflow: hidden;text-align: left;background-color: #f0f8ff;}#sk-container-id-3 div.sk-toggleable__content pre {margin: 0.2em;color: black;border-radius: 0.25em;background-color: #f0f8ff;}#sk-container-id-3 input.sk-toggleable__control:checked~div.sk-toggleable__content {max-height: 200px;max-width: 100%;overflow: auto;}#sk-container-id-3 input.sk-toggleable__control:checked~label.sk-toggleable__label-arrow:before {content: \"▾\";}#sk-container-id-3 div.sk-estimator input.sk-toggleable__control:checked~label.sk-toggleable__label {background-color: #d4ebff;}#sk-container-id-3 div.sk-label input.sk-toggleable__control:checked~label.sk-toggleable__label {background-color: #d4ebff;}#sk-container-id-3 input.sk-hidden--visually {border: 0;clip: rect(1px 1px 1px 1px);clip: rect(1px, 1px, 1px, 1px);height: 1px;margin: -1px;overflow: hidden;padding: 0;position: absolute;width: 1px;}#sk-container-id-3 div.sk-estimator {font-family: monospace;background-color: #f0f8ff;border: 1px dotted black;border-radius: 0.25em;box-sizing: border-box;margin-bottom: 0.5em;}#sk-container-id-3 div.sk-estimator:hover {background-color: #d4ebff;}#sk-container-id-3 div.sk-parallel-item::after {content: \"\";width: 100%;border-bottom: 1px solid gray;flex-grow: 1;}#sk-container-id-3 div.sk-label:hover label.sk-toggleable__label {background-color: #d4ebff;}#sk-container-id-3 div.sk-serial::before {content: \"\";position: absolute;border-left: 1px solid gray;box-sizing: border-box;top: 0;bottom: 0;left: 50%;z-index: 0;}#sk-container-id-3 div.sk-serial {display: flex;flex-direction: column;align-items: center;background-color: white;padding-right: 0.2em;padding-left: 0.2em;position: relative;}#sk-container-id-3 div.sk-item {position: relative;z-index: 1;}#sk-container-id-3 div.sk-parallel {display: flex;align-items: stretch;justify-content: center;background-color: white;position: relative;}#sk-container-id-3 div.sk-item::before, #sk-container-id-3 div.sk-parallel-item::before {content: \"\";position: absolute;border-left: 1px solid gray;box-sizing: border-box;top: 0;bottom: 0;left: 50%;z-index: -1;}#sk-container-id-3 div.sk-parallel-item {display: flex;flex-direction: column;z-index: 1;position: relative;background-color: white;}#sk-container-id-3 div.sk-parallel-item:first-child::after {align-self: flex-end;width: 50%;}#sk-container-id-3 div.sk-parallel-item:last-child::after {align-self: flex-start;width: 50%;}#sk-container-id-3 div.sk-parallel-item:only-child::after {width: 0;}#sk-container-id-3 div.sk-dashed-wrapped {border: 1px dashed gray;margin: 0 0.4em 0.5em 0.4em;box-sizing: border-box;padding-bottom: 0.4em;background-color: white;}#sk-container-id-3 div.sk-label label {font-family: monospace;font-weight: bold;display: inline-block;line-height: 1.2em;}#sk-container-id-3 div.sk-label-container {text-align: center;}#sk-container-id-3 div.sk-container {/* jupyter's `normalize.less` sets `[hidden] { display: none; }` but bootstrap.min.css set `[hidden] { display: none !important; }` so we also need the `!important` here to be able to override the default hidden behavior on the sphinx rendered scikit-learn.org. See: https://github.com/scikit-learn/scikit-learn/issues/21755 */display: inline-block !important;position: relative;}#sk-container-id-3 div.sk-text-repr-fallback {display: none;}</style><div id=\"sk-container-id-3\" class=\"sk-top-container\"><div class=\"sk-text-repr-fallback\"><pre>LogisticRegression(max_iter=300, multi_class=&#x27;ovr&#x27;, solver=&#x27;liblinear&#x27;,\n",
       "                   verbose=2)</pre><b>In a Jupyter environment, please rerun this cell to show the HTML representation or trust the notebook. <br />On GitHub, the HTML representation is unable to render, please try loading this page with nbviewer.org.</b></div><div class=\"sk-container\" hidden><div class=\"sk-item\"><div class=\"sk-estimator sk-toggleable\"><input class=\"sk-toggleable__control sk-hidden--visually\" id=\"sk-estimator-id-3\" type=\"checkbox\" checked><label for=\"sk-estimator-id-3\" class=\"sk-toggleable__label sk-toggleable__label-arrow\">LogisticRegression</label><div class=\"sk-toggleable__content\"><pre>LogisticRegression(max_iter=300, multi_class=&#x27;ovr&#x27;, solver=&#x27;liblinear&#x27;,\n",
       "                   verbose=2)</pre></div></div></div></div></div>"
      ],
      "text/plain": [
       "LogisticRegression(max_iter=300, multi_class='ovr', solver='liblinear',\n",
       "                   verbose=2)"
      ]
     },
     "execution_count": 106,
     "metadata": {},
     "output_type": "execute_result"
    }
   ],
   "source": [
    "model_LOR.fit(X_train, y_train)"
   ]
  },
  {
   "cell_type": "code",
   "execution_count": 107,
   "id": "a1964b42-aaab-4dcb-8ecf-e9afcda2ccc2",
   "metadata": {},
   "outputs": [
    {
     "data": {
      "text/plain": [
       "(32594,)"
      ]
     },
     "execution_count": 107,
     "metadata": {},
     "output_type": "execute_result"
    }
   ],
   "source": [
    "y_hat = model_LOR.predict(X_test)\n",
    "y_hat.shape"
   ]
  },
  {
   "cell_type": "code",
   "execution_count": 108,
   "id": "ef7d597d-59f4-4f1d-a8bb-1e6d23e993da",
   "metadata": {},
   "outputs": [
    {
     "data": {
      "text/plain": [
       "0.6096520832054979"
      ]
     },
     "execution_count": 108,
     "metadata": {},
     "output_type": "execute_result"
    }
   ],
   "source": [
    "accuracy_score(y_test, y_hat)"
   ]
  },
  {
   "cell_type": "code",
   "execution_count": 110,
   "id": "f6009487-c89f-4f26-9716-515dafd8f503",
   "metadata": {},
   "outputs": [
    {
     "data": {
      "image/png": "[encoded data removed]",
      "text/plain": [
       "<Figure size 432x288 with 2 Axes>"
      ]
     },
     "metadata": {
      "needs_background": "light"
     },
     "output_type": "display_data"
    }
   ],
   "source": [
    "from sklearn.metrics import *\n",
    "confusion_matrix = confusion_matrix(y_test, y_hat)\n",
    "\n",
    "cm_display = ConfusionMatrixDisplay(confusion_matrix = confusion_matrix, display_labels = [1, 0,-1])\n",
    "\n",
    "cm_display.plot()\n",
    "plt.show()"
   ]
  },
  {
   "cell_type": "code",
   "execution_count": null,
   "id": "9cb1869a-48db-4568-ba5c-9a8f755d8a02",
   "metadata": {},
   "outputs": [],
   "source": []
  }
 ],
 "metadata": {
  "kernelspec": {
   "display_name": "Python 3 (ipykernel)",
   "language": "python",
   "name": "python3"
  },
  "language_info": {
   "codemirror_mode": {
    "name": "ipython",
    "version": 3
   },
   "file_extension": ".py",
   "mimetype": "text/x-python",
   "name": "python",
   "nbconvert_exporter": "python",
   "pygments_lexer": "ipython3",
   "version": "3.9.12"
  }
 },
 "nbformat": 4,
 "nbformat_minor": 5
}

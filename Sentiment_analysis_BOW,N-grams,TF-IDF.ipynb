{
 "cells": [
  {
   "cell_type": "code",
   "execution_count": 1,
   "id": "b3777c85-fc5f-4b02-b62e-d43461ca9809",
   "metadata": {},
   "outputs": [],
   "source": [
    "from sklearn.feature_extraction.text import CountVectorizer\n",
    "import pandas as pd\n",
    "import tensorflow as tf\n",
    "from tensorflow.keras.optimizers import Adam\n",
    "import pickle\n",
    "import numpy as np\n",
    "from matplotlib import pyplot as plt"
   ]
  },
  {
   "cell_type": "code",
   "execution_count": 2,
   "id": "3798886c-9e88-48a0-944e-39d70ae1d7fb",
   "metadata": {},
   "outputs": [
    {
     "data": {
      "text/html": [
       "<div>\n",
       "<style scoped>\n",
       "    .dataframe tbody tr th:only-of-type {\n",
       "        vertical-align: middle;\n",
       "    }\n",
       "\n",
       "    .dataframe tbody tr th {\n",
       "        vertical-align: top;\n",
       "    }\n",
       "\n",
       "    .dataframe thead th {\n",
       "        text-align: right;\n",
       "    }\n",
       "</style>\n",
       "<table border=\"1\" class=\"dataframe\">\n",
       "  <thead>\n",
       "    <tr style=\"text-align: right;\">\n",
       "      <th></th>\n",
       "      <th>clean_text</th>\n",
       "      <th>category</th>\n",
       "    </tr>\n",
       "  </thead>\n",
       "  <tbody>\n",
       "    <tr>\n",
       "      <th>0</th>\n",
       "      <td>when modi promised “minimum government maximum...</td>\n",
       "      <td>-1.0</td>\n",
       "    </tr>\n",
       "    <tr>\n",
       "      <th>1</th>\n",
       "      <td>talk all the nonsense and continue all the dra...</td>\n",
       "      <td>0.0</td>\n",
       "    </tr>\n",
       "    <tr>\n",
       "      <th>2</th>\n",
       "      <td>what did just say vote for modi  welcome bjp t...</td>\n",
       "      <td>1.0</td>\n",
       "    </tr>\n",
       "    <tr>\n",
       "      <th>3</th>\n",
       "      <td>asking his supporters prefix chowkidar their n...</td>\n",
       "      <td>1.0</td>\n",
       "    </tr>\n",
       "    <tr>\n",
       "      <th>4</th>\n",
       "      <td>answer who among these the most powerful world...</td>\n",
       "      <td>1.0</td>\n",
       "    </tr>\n",
       "  </tbody>\n",
       "</table>\n",
       "</div>"
      ],
      "text/plain": [
       "                                          clean_text  category\n",
       "0  when modi promised “minimum government maximum...      -1.0\n",
       "1  talk all the nonsense and continue all the dra...       0.0\n",
       "2  what did just say vote for modi  welcome bjp t...       1.0\n",
       "3  asking his supporters prefix chowkidar their n...       1.0\n",
       "4  answer who among these the most powerful world...       1.0"
      ]
     },
     "execution_count": 2,
     "metadata": {},
     "output_type": "execute_result"
    }
   ],
   "source": [
    "df = pd.read_csv('Twitter_Data.csv', index_col=False)\n",
    "df.head()"
   ]
  },
  {
   "cell_type": "code",
   "execution_count": 3,
   "id": "c8ceae5c-bda3-4c4b-8417-f12f03f72146",
   "metadata": {},
   "outputs": [
    {
     "name": "stdout",
     "output_type": "stream",
     "text": [
      "<class 'pandas.core.frame.DataFrame'>\n",
      "Int64Index: 162969 entries, 0 to 162979\n",
      "Data columns (total 2 columns):\n",
      " #   Column      Non-Null Count   Dtype  \n",
      "---  ------      --------------   -----  \n",
      " 0   clean_text  162969 non-null  object \n",
      " 1   category    162969 non-null  float64\n",
      "dtypes: float64(1), object(1)\n",
      "memory usage: 3.7+ MB\n"
     ]
    }
   ],
   "source": [
    "df = df.dropna()\n",
    "df.info()"
   ]
  },
  {
   "cell_type": "code",
   "execution_count": 4,
   "id": "5484eaa0-cc77-48d8-9af2-b460aab13ed0",
   "metadata": {},
   "outputs": [
    {
     "data": {
      "text/plain": [
       "(32593, 2)"
      ]
     },
     "execution_count": 4,
     "metadata": {},
     "output_type": "execute_result"
    }
   ],
   "source": [
    "df= df[:int(df.shape[0]*0.2)]\n",
    "df.shape"
   ]
  },
  {
   "cell_type": "markdown",
   "id": "bb32199b-bead-44f5-8582-683c4f706dea",
   "metadata": {},
   "source": [
    "## Bag of words  DataFrame"
   ]
  },
  {
   "cell_type": "code",
   "execution_count": 5,
   "id": "acad2a0b-cf55-4223-9fa8-833760e9a9c8",
   "metadata": {},
   "outputs": [
    {
     "data": {
      "text/plain": [
       "(32593, 39675)"
      ]
     },
     "execution_count": 5,
     "metadata": {},
     "output_type": "execute_result"
    }
   ],
   "source": [
    "cv1 = CountVectorizer(stop_words='english')\n",
    "df_bow = cv1.fit_transform(df[\"clean_text\"])\n",
    "df_bow=df_bow.toarray()\n",
    "df_bow.shape"
   ]
  },
  {
   "cell_type": "markdown",
   "id": "cad1bd73-8523-4b11-ac12-b56125a08a23",
   "metadata": {},
   "source": [
    "## Ngrams n=2 dataframe can not make dataset as memory issue "
   ]
  },
  {
   "cell_type": "code",
   "execution_count": null,
   "id": "f72f0b8a-0cca-4dd1-905f-4069a6569828",
   "metadata": {},
   "outputs": [],
   "source": [
    "# cv1 = CountVectorizer(stop_words='english',ngram_range=(2, 2))\n",
    "# df_bow = cv1.fit_transform(df[\"clean_text\"])\n",
    "# df_bow=df_bow.toarray()\n",
    "# df_bow.shape"
   ]
  },
  {
   "cell_type": "code",
   "execution_count": 6,
   "id": "ca3e219e-2942-488f-8cf0-c8fa2d874d8a",
   "metadata": {},
   "outputs": [],
   "source": [
    "xtrain = df_bow[:int(df_bow.shape[0]*0.8)]\n",
    "xtest = df_bow[int(df_bow.shape[0]*0.8):]"
   ]
  },
  {
   "cell_type": "code",
   "execution_count": 7,
   "id": "1c21f6e2-a1d9-46a9-9f4d-b7ee0a8c40b4",
   "metadata": {},
   "outputs": [
    {
     "data": {
      "text/plain": [
       "[[0, 0, 1], [0, 1, 0], [1, 0, 0], [1, 0, 0], [1, 0, 0]]"
      ]
     },
     "execution_count": 7,
     "metadata": {},
     "output_type": "execute_result"
    }
   ],
   "source": [
    "y = np.array(df['category'])\n",
    "yN =[]\n",
    "for i in y:\n",
    "    if(i == 1.0):\n",
    "        yN.append([1,0,0])\n",
    "    elif(i==0.0):\n",
    "        yN.append([0,1,0])\n",
    "    else:\n",
    "        yN.append([0,0,1])\n",
    "yN[:5]    "
   ]
  },
  {
   "cell_type": "code",
   "execution_count": 8,
   "id": "e2718f53-6777-49b4-af1b-7fdb00ab6c70",
   "metadata": {},
   "outputs": [
    {
     "name": "stdout",
     "output_type": "stream",
     "text": [
      "(26074, 3) (6519, 3)\n"
     ]
    }
   ],
   "source": [
    "ytrain = np.array(yN[:int(df_bow.shape[0]*0.8)])\n",
    "ytest = np.array(yN[int(df_bow.shape[0]*0.8):])\n",
    "ytrain = np.reshape(ytrain,(ytrain.shape[0],3))\n",
    "ytest = np.reshape(ytest,(ytest.shape[0],3))\n",
    "print(ytrain.shape, ytest.shape)"
   ]
  },
  {
   "cell_type": "code",
   "execution_count": 9,
   "id": "1c699c19-652e-4b60-b37d-7afe9000f81f",
   "metadata": {},
   "outputs": [],
   "source": [
    "x = tf.constant(xtrain, dtype=tf.float32)\n",
    "w=tf.Variable(tf.random.uniform(shape=[3,x.shape[1]], minval=0,maxval=15, dtype=tf.float32, seed=123456789))"
   ]
  },
  {
   "cell_type": "code",
   "execution_count": null,
   "id": "4de11378-a5e2-416f-a81a-716dfae13bd8",
   "metadata": {},
   "outputs": [],
   "source": [
    "opti= Adam(learning_rate=1e-1)\n",
    "iter =200\n",
    "c=[]\n",
    "ytrain=tf.constant(ytrain,dtype=tf.float32)\n",
    "loss=tf.keras.losses.CategoricalCrossentropy(reduction=tf.keras.losses.Reduction.SUM)\n",
    "for i in range(iter):\n",
    "    with tf.GradientTape() as tape:\n",
    "        yhat = tf.nn.softmax(tf.matmul(x,tf.transpose(w)),axis=1)\n",
    "        cost = loss(yhat, ytrain)\n",
    "        \n",
    "    c.append(cost)\n",
    "    grad = tape.gradient(cost,[w])\n",
    "    opti.apply_gradients(zip(grad,[w])) # adma optimizer"
   ]
  },
  {
   "cell_type": "code",
   "execution_count": null,
   "id": "f9d53922-cf02-423d-a75e-7461b66f7da3",
   "metadata": {},
   "outputs": [],
   "source": [
    "np.savetxt(\"SoftmaxWeights_BOW.csv\", w, delimiter=\",\")"
   ]
  },
  {
   "cell_type": "code",
   "execution_count": null,
   "id": "f2639607-6ea4-43a8-8388-71222c857576",
   "metadata": {},
   "outputs": [],
   "source": [
    "l=np.arange(1,len(c)+1)\n",
    "plt.plot(l, c, label = \"line 2\")\n",
    "  \n",
    "# naming the x axis -->\n",
    "plt.xlabel('iteration')\n",
    "# naming the y axis\n",
    "plt.ylabel('cost')\n",
    "# giving a title to my graph\n",
    "plt.title('Cost function Recommendor system!')\n",
    "  \n",
    "# show a legend on the plot\n",
    "plt.legend()\n",
    "  \n",
    "# function to show the plot\n",
    "plt.show()"
   ]
  },
  {
   "cell_type": "code",
   "execution_count": null,
   "id": "13de75d2-44fb-4730-a02c-2e029884b4d8",
   "metadata": {},
   "outputs": [],
   "source": [
    "xtest = tf.constant(xtest, dtype=tf.float32)\n",
    "yhatN = tf.nn.softmax(tf.matmul(xtest,tf.transpose(w)),axis=1).numpy()\n",
    "yhat = []\n",
    "for i in yhatN:\n",
    "    a = np.argmax(i)\n",
    "    if(a==0):\n",
    "        yhat.append(1.0)\n",
    "    elif(a==1):\n",
    "        yhat.append(0.0)\n",
    "    else:\n",
    "        yhat.append(-1.0)"
   ]
  },
  {
   "cell_type": "code",
   "execution_count": null,
   "id": "722e00e0-89ea-46b6-a880-e741397ab85b",
   "metadata": {},
   "outputs": [],
   "source": [
    "ytN=np.array(y[int(df_bow.shape[0]*0.8):])\n",
    "ytest = np.array(ytN)\n",
    "ytest = np.reshape((ytest),(ytest.shape[0],1))\n",
    "ytest.shape"
   ]
  },
  {
   "cell_type": "code",
   "execution_count": null,
   "id": "4a46ccb3-ed34-42b4-85ef-e9eefdb7a439",
   "metadata": {},
   "outputs": [],
   "source": [
    "from sklearn.metrics import accuracy_score\n",
    "from sklearn.metrics import f1_score\n",
    "## Accuracy\n",
    "yhat = np.array(yhat)\n",
    "yhat=np.reshape((yhat),(yhat.shape[0],1))\n",
    "print(yhat.shape)\n",
    "print(accuracy_score(ytest, yhat))\n",
    "print(f1_score(ytest, yhat, average='micro'))\n"
   ]
  },
  {
   "cell_type": "code",
   "execution_count": null,
   "id": "15fc7b0c-6df4-4dd8-93e1-611003bef88e",
   "metadata": {},
   "outputs": [],
   "source": []
  }
 ],
 "metadata": {
  "kernelspec": {
   "display_name": "Python 3 (ipykernel)",
   "language": "python",
   "name": "python3"
  },
  "language_info": {
   "codemirror_mode": {
    "name": "ipython",
    "version": 3
   },
   "file_extension": ".py",
   "mimetype": "text/x-python",
   "name": "python",
   "nbconvert_exporter": "python",
   "pygments_lexer": "ipython3",
   "version": "3.9.12"
  }
 },
 "nbformat": 4,
 "nbformat_minor": 5
}

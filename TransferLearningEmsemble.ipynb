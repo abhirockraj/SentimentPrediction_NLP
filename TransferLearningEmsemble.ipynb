{
 "cells": [
  {
   "cell_type": "code",
   "execution_count": 62,
   "id": "d6b3fa8d-2ed9-46b6-985c-7a2061642130",
   "metadata": {},
   "outputs": [],
   "source": [
    "from transformers import pipeline\n",
    "import pandas as pd\n",
    "import numpy as np\n",
    "from sklearn.metrics import classification_report\n",
    "from matplotlib import pyplot as plt\n",
    "from sklearn.metrics import accuracy_score\n",
    "import json\n",
    "import requests\n",
    "from tqdm import tqdm\n",
    "import config"
   ]
  },
  {
   "cell_type": "code",
   "execution_count": 2,
   "id": "dbfebc91-c430-4800-825b-c22f40ccbd36",
   "metadata": {},
   "outputs": [
    {
     "name": "stdout",
     "output_type": "stream",
     "text": [
      "<class 'pandas.core.frame.DataFrame'>\n",
      "Int64Index: 162969 entries, 0 to 162979\n",
      "Data columns (total 2 columns):\n",
      " #   Column      Non-Null Count   Dtype  \n",
      "---  ------      --------------   -----  \n",
      " 0   clean_text  162969 non-null  object \n",
      " 1   category    162969 non-null  float64\n",
      "dtypes: float64(1), object(1)\n",
      "memory usage: 3.7+ MB\n"
     ]
    }
   ],
   "source": [
    "df = pd.read_csv('Twitter_Data.csv',index_col=0)\n",
    "df.info()"
   ]
  },
  {
   "cell_type": "code",
   "execution_count": 3,
   "id": "12ae1e62-9a69-4369-94bf-8a60b40d9f37",
   "metadata": {},
   "outputs": [
    {
     "data": {
      "text/html": [
       "<div>\n",
       "<style scoped>\n",
       "    .dataframe tbody tr th:only-of-type {\n",
       "        vertical-align: middle;\n",
       "    }\n",
       "\n",
       "    .dataframe tbody tr th {\n",
       "        vertical-align: top;\n",
       "    }\n",
       "\n",
       "    .dataframe thead th {\n",
       "        text-align: right;\n",
       "    }\n",
       "</style>\n",
       "<table border=\"1\" class=\"dataframe\">\n",
       "  <thead>\n",
       "    <tr style=\"text-align: right;\">\n",
       "      <th></th>\n",
       "      <th>clean_text</th>\n",
       "      <th>category</th>\n",
       "    </tr>\n",
       "  </thead>\n",
       "  <tbody>\n",
       "    <tr>\n",
       "      <th>0</th>\n",
       "      <td>when modi promised “minimum government maximum...</td>\n",
       "      <td>-1.0</td>\n",
       "    </tr>\n",
       "    <tr>\n",
       "      <th>1</th>\n",
       "      <td>talk all the nonsense and continue all the dra...</td>\n",
       "      <td>0.0</td>\n",
       "    </tr>\n",
       "    <tr>\n",
       "      <th>2</th>\n",
       "      <td>what did just say vote for modi  welcome bjp t...</td>\n",
       "      <td>1.0</td>\n",
       "    </tr>\n",
       "    <tr>\n",
       "      <th>3</th>\n",
       "      <td>asking his supporters prefix chowkidar their n...</td>\n",
       "      <td>1.0</td>\n",
       "    </tr>\n",
       "    <tr>\n",
       "      <th>4</th>\n",
       "      <td>answer who among these the most powerful world...</td>\n",
       "      <td>1.0</td>\n",
       "    </tr>\n",
       "  </tbody>\n",
       "</table>\n",
       "</div>"
      ],
      "text/plain": [
       "                                          clean_text  category\n",
       "0  when modi promised “minimum government maximum...      -1.0\n",
       "1  talk all the nonsense and continue all the dra...       0.0\n",
       "2  what did just say vote for modi  welcome bjp t...       1.0\n",
       "3  asking his supporters prefix chowkidar their n...       1.0\n",
       "4  answer who among these the most powerful world...       1.0"
      ]
     },
     "execution_count": 3,
     "metadata": {},
     "output_type": "execute_result"
    }
   ],
   "source": [
    "df.head()"
   ]
  },
  {
   "cell_type": "code",
   "execution_count": 4,
   "id": "7be46059-0e15-4535-a87d-f27580b39e4a",
   "metadata": {},
   "outputs": [],
   "source": [
    "classifier = pipeline('sentiment-analysis',model=r\"D:\\SentimentPrediction_NLP\\Transformers\\sentimentTranformers\\bertweet-base-sentiment\")"
   ]
  },
  {
   "cell_type": "code",
   "execution_count": 5,
   "id": "606c5b1e-05d2-4ea1-83c6-79696795ab40",
   "metadata": {},
   "outputs": [],
   "source": [
    "res = classifier(df.clean_text[1])"
   ]
  },
  {
   "cell_type": "code",
   "execution_count": 6,
   "id": "7bc3da0f-2e44-402a-a436-1866de22bde4",
   "metadata": {},
   "outputs": [
    {
     "data": {
      "text/plain": [
       "[{'label': 'NEG', 'score': 0.7548747658729553}]"
      ]
     },
     "execution_count": 6,
     "metadata": {},
     "output_type": "execute_result"
    }
   ],
   "source": [
    "res"
   ]
  },
  {
   "cell_type": "code",
   "execution_count": 19,
   "id": "09c3aef0-cc3e-4313-afd0-c258f22b1501",
   "metadata": {},
   "outputs": [],
   "source": [
    "classifier1 = pipeline('sentiment-analysis',model=r\"D:\\SentimentPrediction_NLP\\Transformers\\sentimentTranformers\\beto-sentiment-analysis\")"
   ]
  },
  {
   "cell_type": "code",
   "execution_count": 24,
   "id": "4f89a866-d7b8-4d23-b105-c90b97dfbe5d",
   "metadata": {},
   "outputs": [],
   "source": [
    "res1 = classifier1(df.clean_text[1])"
   ]
  },
  {
   "cell_type": "code",
   "execution_count": 25,
   "id": "c5e71ed8",
   "metadata": {},
   "outputs": [
    {
     "data": {
      "text/plain": [
       "[{'label': 'NEU', 'score': 0.998062789440155}]"
      ]
     },
     "execution_count": 25,
     "metadata": {},
     "output_type": "execute_result"
    }
   ],
   "source": [
    "res1"
   ]
  },
  {
   "cell_type": "code",
   "execution_count": 70,
   "id": "ce51dc52",
   "metadata": {},
   "outputs": [
    {
     "name": "stdout",
     "output_type": "stream",
     "text": [
      "True\n"
     ]
    }
   ],
   "source": [
    "print(res1[0]['label']=='NEU')"
   ]
  },
  {
   "cell_type": "code",
   "execution_count": 92,
   "id": "87a51d2f",
   "metadata": {},
   "outputs": [],
   "source": [
    "classifier2 = pipeline('sentiment-analysis',model=r\"D:\\SentimentPrediction_NLP\\Transformers\\sentimentTranformers\\twitter-roberta-base-sentiment\")"
   ]
  },
  {
   "cell_type": "code",
   "execution_count": 95,
   "id": "5e5999e5",
   "metadata": {},
   "outputs": [],
   "source": [
    "res2 = classifier2(df.clean_text[0])"
   ]
  },
  {
   "cell_type": "code",
   "execution_count": 96,
   "id": "3f1a4a4a-4874-4e75-8488-2ffc5ca710d2",
   "metadata": {},
   "outputs": [
    {
     "data": {
      "text/plain": [
       "[{'label': 'LABEL_0', 'score': 0.5099374651908875}]"
      ]
     },
     "execution_count": 96,
     "metadata": {},
     "output_type": "execute_result"
    }
   ],
   "source": [
    "res2"
   ]
  },
  {
   "cell_type": "markdown",
   "id": "604bb50b-6906-43be-9371-59e4ee4e756b",
   "metadata": {},
   "source": [
    "## Call indv TL function and show accuracy"
   ]
  },
  {
   "cell_type": "code",
   "execution_count": 98,
   "id": "b931c5d8-dbae-4247-a036-c358eb3afc1b",
   "metadata": {},
   "outputs": [],
   "source": [
    "def callClasifier(classifier, df1):\n",
    "    l=[]\n",
    "    for i in df1.clean_text:\n",
    "#         print(i)\n",
    "        result = classifier(i)\n",
    "#         print(result)\n",
    "        if(('NEU' in result[0]['label']) or ('1'in result[0]['label'])):\n",
    "            l.append(0.0)\n",
    "        elif(('NEG' in result[0]['label']) or ('0'in result[0]['label'])):\n",
    "            l.append(-1.0)\n",
    "        else:\n",
    "            l.append(1.0)\n",
    "    return l"
   ]
  },
  {
   "cell_type": "code",
   "execution_count": 85,
   "id": "d7106af3-d09d-4918-baaf-9fdd58b0798f",
   "metadata": {},
   "outputs": [],
   "source": [
    "classiferBERT = pipeline('sentiment-analysis',model=r\"D:\\SentimentPrediction_NLP\\Transformers\\sentimentTranformers\\bertweet-base-sentiment\")\n",
    "res =callClasifier(classiferBERT, df[:500])"
   ]
  },
  {
   "cell_type": "code",
   "execution_count": 86,
   "id": "88951b7c-f92c-427c-8570-3b30b4f6246c",
   "metadata": {},
   "outputs": [
    {
     "name": "stdout",
     "output_type": "stream",
     "text": [
      "(500,) (500,)\n"
     ]
    }
   ],
   "source": [
    "yhat = np.array(res)\n",
    "y = np.array(df.category[:500])\n",
    "print(yhat.shape,y.shape)"
   ]
  },
  {
   "cell_type": "code",
   "execution_count": 87,
   "id": "39d5ca42-748d-4e8f-af49-08da4da452b7",
   "metadata": {},
   "outputs": [
    {
     "name": "stdout",
     "output_type": "stream",
     "text": [
      "              precision    recall  f1-score   support\n",
      "\n",
      "    negative       0.40      0.82      0.54       104\n",
      "     neutral       0.48      0.49      0.48       187\n",
      "    positive       0.57      0.26      0.36       209\n",
      "\n",
      "    accuracy                           0.46       500\n",
      "   macro avg       0.48      0.52      0.46       500\n",
      "weighted avg       0.50      0.46      0.44       500\n",
      "\n"
     ]
    }
   ],
   "source": [
    "target_name=['negative','neutral','positive']\n",
    "print(classification_report(y, yhat, target_names=target_name))"
   ]
  },
  {
   "cell_type": "code",
   "execution_count": 63,
   "id": "2c9225b7-7e09-4843-ac04-5c0ba323760a",
   "metadata": {},
   "outputs": [
    {
     "data": {
      "image/png": "[encoded data removed]",
      "text/plain": [
       "<Figure size 640x480 with 2 Axes>"
      ]
     },
     "metadata": {},
     "output_type": "display_data"
    }
   ],
   "source": [
    "from sklearn.metrics import *\n",
    "confusion_matrix = confusion_matrix(y, yhat)\n",
    "cm_display = ConfusionMatrixDisplay(confusion_matrix = confusion_matrix, display_labels = [-1,0, 1])\n",
    "cm_display.plot()\n",
    "plt.show()"
   ]
  },
  {
   "cell_type": "code",
   "execution_count": 64,
   "id": "051258d8-d009-4d86-8a30-83cccadf56b7",
   "metadata": {},
   "outputs": [],
   "source": [
    "classifierBeto = pipeline('sentiment-analysis',model=r\"D:\\SentimentPrediction_NLP\\Transformers\\sentimentTranformers\\beto-sentiment-analysis\")\n",
    "res =callClasifier(classifierBeto, df[:500])"
   ]
  },
  {
   "cell_type": "code",
   "execution_count": 65,
   "id": "93fd4bfb-086a-40e3-94a2-022efeb7820a",
   "metadata": {},
   "outputs": [
    {
     "name": "stdout",
     "output_type": "stream",
     "text": [
      "(500,) (500,)\n"
     ]
    }
   ],
   "source": [
    "yhat = np.array(res)\n",
    "y = np.array(df.category[:500])\n",
    "print(yhat.shape, y.shape)"
   ]
  },
  {
   "cell_type": "code",
   "execution_count": 66,
   "id": "9892aee4-7935-4f1b-b040-3e87c42c9fd5",
   "metadata": {},
   "outputs": [
    {
     "name": "stdout",
     "output_type": "stream",
     "text": [
      "              precision    recall  f1-score   support\n",
      "\n",
      "    negative       0.33      0.40      0.37       104\n",
      "     neutral       0.46      0.88      0.61       187\n",
      "    positive       0.75      0.07      0.13       209\n",
      "\n",
      "    accuracy                           0.44       500\n",
      "   macro avg       0.52      0.45      0.37       500\n",
      "weighted avg       0.56      0.44      0.36       500\n",
      "\n"
     ]
    }
   ],
   "source": [
    "target_name=['negative','neutral','positive']\n",
    "print(classification_report(y, yhat, target_names=target_name))"
   ]
  },
  {
   "cell_type": "code",
   "execution_count": 67,
   "id": "f5e1ee90-071b-44b6-9b19-c6cc642fe1a6",
   "metadata": {},
   "outputs": [
    {
     "data": {
      "image/png": "[encoded data removed]",
      "text/plain": [
       "<Figure size 640x480 with 2 Axes>"
      ]
     },
     "metadata": {},
     "output_type": "display_data"
    }
   ],
   "source": [
    "from sklearn.metrics import *\n",
    "confusion_matrix = confusion_matrix(y, yhat)\n",
    "cm_display = ConfusionMatrixDisplay(confusion_matrix = confusion_matrix, display_labels = [-1,0, 1])\n",
    "cm_display.plot()\n",
    "plt.show()"
   ]
  },
  {
   "cell_type": "code",
   "execution_count": 99,
   "id": "6a59c2dd",
   "metadata": {},
   "outputs": [],
   "source": [
    "classifierBeto = pipeline('sentiment-analysis',model=r\"D:\\SentimentPrediction_NLP\\Transformers\\sentimentTranformers\\twitter-roberta-base-sentiment\")\n",
    "res =callClasifier(classifierBeto, df[:500])"
   ]
  },
  {
   "cell_type": "code",
   "execution_count": 100,
   "id": "bc4edad3",
   "metadata": {},
   "outputs": [
    {
     "name": "stdout",
     "output_type": "stream",
     "text": [
      "(500,) (500,)\n"
     ]
    }
   ],
   "source": [
    "yhat = np.array(res)\n",
    "y = np.array(df.category[:500])\n",
    "print(yhat.shape, y.shape)"
   ]
  },
  {
   "cell_type": "code",
   "execution_count": 101,
   "id": "ee346982",
   "metadata": {},
   "outputs": [
    {
     "name": "stdout",
     "output_type": "stream",
     "text": [
      "              precision    recall  f1-score   support\n",
      "\n",
      "    negative       0.38      0.66      0.48       104\n",
      "     neutral       0.45      0.61      0.52       187\n",
      "    positive       0.66      0.20      0.30       209\n",
      "\n",
      "    accuracy                           0.45       500\n",
      "   macro avg       0.50      0.49      0.43       500\n",
      "weighted avg       0.52      0.45      0.42       500\n",
      "\n"
     ]
    }
   ],
   "source": [
    "target_name=['negative','neutral','positive']\n",
    "print(classification_report(y, yhat, target_names=target_name))"
   ]
  },
  {
   "cell_type": "code",
   "execution_count": 102,
   "id": "7cacf4f0",
   "metadata": {},
   "outputs": [
    {
     "data": {
      "image/png": "[encoded data removed]",
      "text/plain": [
       "<Figure size 640x480 with 2 Axes>"
      ]
     },
     "metadata": {},
     "output_type": "display_data"
    }
   ],
   "source": [
    "from sklearn.metrics import *\n",
    "confusion_matrix = confusion_matrix(y, yhat)\n",
    "cm_display = ConfusionMatrixDisplay(confusion_matrix = confusion_matrix, display_labels = [-1,0, 1])\n",
    "cm_display.plot()\n",
    "plt.show()"
   ]
  },
  {
   "cell_type": "markdown",
   "id": "3fe144b4-55ca-494c-bda9-edb66c4df510",
   "metadata": {},
   "source": [
    "## Api calling "
   ]
  },
  {
   "cell_type": "code",
   "execution_count": 26,
   "id": "6e56c937-de67-4633-8ddb-40d6ada26af8",
   "metadata": {},
   "outputs": [],
   "source": [
    "endPoints = ['ProsusAI/finbert','finiteautomata/bertweet-base-sentiment-analysis','elozano/tweet_sentiment_eval']"
   ]
  },
  {
   "cell_type": "code",
   "execution_count": 75,
   "id": "888252b5-ae15-4d5f-a5c2-40273dcfee8d",
   "metadata": {},
   "outputs": [],
   "source": [
    "def query(payload, API_URL):\n",
    "    API_TOKEN = config.apiHF\n",
    "    headers = {\"Authorization\": f\"Bearer {API_TOKEN}\"}\n",
    "    data = json.dumps(payload)\n",
    "    response = requests.request(\"POST\", API_URL, headers=headers, data=data)\n",
    "    return json.loads(response.content.decode(\"utf-8\"))\n",
    "def predict(newDf):\n",
    "    bl=[]\n",
    "    for i in endPoints:\n",
    "        API_URL = \"https://api-inference.huggingface.co/models/\"+i\n",
    "        data = query({\"inputs\": newDf},API_URL)\n",
    "        # print(data)\n",
    "        l=[]\n",
    "        key= [data[0][0]['label'][:3].upper(),data[0][1]['label'][:3].upper(),data[0][2]['label'][:3].upper()]\n",
    "        value = [data[0][0]['score'],data[0][1]['score'],data[0][2]['score']]\n",
    "        l.append(value[key.index('NEG')])\n",
    "        l.append(value[key.index('NEU')])\n",
    "        l.append(value[key.index('POS')])\n",
    "        bl.append(l)    \n",
    "    finalA = np.array(bl)\n",
    "    return np.argmax(np.mean(finalA,axis=0))"
   ]
  },
  {
   "cell_type": "code",
   "execution_count": 76,
   "id": "ac1be514-3c26-4e1b-8c89-db3be6c49a41",
   "metadata": {},
   "outputs": [
    {
     "name": "stderr",
     "output_type": "stream",
     "text": [
      "100%|██████████████████████████████████████████████████████████████████████████████████| 10/10 [00:39<00:00,  4.00s/it]\n"
     ]
    }
   ],
   "source": [
    "dfnew= df[:10]\n",
    "# dfnew.shape\n",
    "yhat=[]\n",
    "for i in tqdm(dfnew.clean_text):\n",
    "    v=predict(i)\n",
    "    if(v==0):\n",
    "        yhat.append(-1.0)\n",
    "    elif(v==1):\n",
    "        yhat.append(0.0)\n",
    "    else:\n",
    "        yhat.append(1.0)"
   ]
  },
  {
   "cell_type": "code",
   "execution_count": 74,
   "id": "63abd196-a64b-4016-b0f7-0cc158ea9cc7",
   "metadata": {},
   "outputs": [
    {
     "name": "stdout",
     "output_type": "stream",
     "text": [
      "-1.0\n"
     ]
    }
   ],
   "source": [
    "v=predict(df.clean_text[1])\n",
    "if(v==0):\n",
    "    print(-1.0)\n",
    "elif(v==1):\n",
    "    print(0.0)\n",
    "else:\n",
    "    print(1.0)"
   ]
  },
  {
   "cell_type": "code",
   "execution_count": 79,
   "id": "ce6a30da-dfeb-4c51-aac9-dd8cc321cdaf",
   "metadata": {},
   "outputs": [
    {
     "name": "stdout",
     "output_type": "stream",
     "text": [
      "(10,) (10,)\n"
     ]
    }
   ],
   "source": [
    "y_hat = np.array(yhat)\n",
    "y = np.array(df.category[:10])\n",
    "print(y_hat.shape, y.shape)"
   ]
  },
  {
   "cell_type": "code",
   "execution_count": 80,
   "id": "2616a669-cb11-4788-aac7-a729286cb7db",
   "metadata": {},
   "outputs": [
    {
     "name": "stdout",
     "output_type": "stream",
     "text": [
      "              precision    recall  f1-score   support\n",
      "\n",
      "    negative       0.00      0.00      0.00         1\n",
      "     neutral       0.50      0.75      0.60         4\n",
      "    positive       1.00      0.40      0.57         5\n",
      "\n",
      "    accuracy                           0.50        10\n",
      "   macro avg       0.50      0.38      0.39        10\n",
      "weighted avg       0.70      0.50      0.53        10\n",
      "\n"
     ]
    }
   ],
   "source": [
    "target_name=['negative','neutral','positive']\n",
    "print(classification_report(y, y_hat, target_names=target_name))"
   ]
  },
  {
   "cell_type": "code",
   "execution_count": 81,
   "id": "7839a22a-f2cb-4c2e-a92e-11ed527872ad",
   "metadata": {},
   "outputs": [
    {
     "data": {
      "image/png": "[encoded data removed]",
      "text/plain": [
       "<Figure size 640x480 with 2 Axes>"
      ]
     },
     "metadata": {},
     "output_type": "display_data"
    }
   ],
   "source": [
    "from sklearn.metrics import *\n",
    "confusion_matrix = confusion_matrix(y, y_hat)\n",
    "cm_display = ConfusionMatrixDisplay(confusion_matrix = confusion_matrix, display_labels = [-1,0, 1])\n",
    "cm_display.plot()\n",
    "plt.show()"
   ]
  },
  {
   "cell_type": "code",
   "execution_count": null,
   "id": "2c773c6a-bffa-4705-8e6e-d215400425a3",
   "metadata": {},
   "outputs": [],
   "source": []
  }
 ],
 "metadata": {
  "kernelspec": {
   "display_name": "Python 3 (ipykernel)",
   "language": "python",
   "name": "python3"
  },
  "language_info": {
   "codemirror_mode": {
    "name": "ipython",
    "version": 3
   },
   "file_extension": ".py",
   "mimetype": "text/x-python",
   "name": "python",
   "nbconvert_exporter": "python",
   "pygments_lexer": "ipython3",
   "version": "3.9.12"
  }
 },
 "nbformat": 4,
 "nbformat_minor": 5
}
